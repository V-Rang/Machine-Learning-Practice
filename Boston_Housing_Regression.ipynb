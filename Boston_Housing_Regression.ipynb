{
  "nbformat": 4,
  "nbformat_minor": 0,
  "metadata": {
    "colab": {
      "provenance": [],
      "authorship_tag": "ABX9TyNuQqazcaJr0cWPvakEdgbT",
      "include_colab_link": true
    },
    "kernelspec": {
      "name": "python3",
      "display_name": "Python 3"
    },
    "language_info": {
      "name": "python"
    }
  },
  "cells": [
    {
      "cell_type": "markdown",
      "metadata": {
        "id": "view-in-github",
        "colab_type": "text"
      },
      "source": [
        "<a href=\"https://colab.research.google.com/github/V-Rang/Machine-Learning-Practice/blob/main/Boston_Housing_Regression.ipynb\" target=\"_parent\"><img src=\"https://colab.research.google.com/assets/colab-badge.svg\" alt=\"Open In Colab\"/></a>"
      ]
    },
    {
      "cell_type": "code",
      "execution_count": 1,
      "metadata": {
        "id": "hgKNZCpSDazG"
      },
      "outputs": [],
      "source": [
        "import numpy as np\n",
        "import tensorflow as tf"
      ]
    },
    {
      "cell_type": "code",
      "source": [
        "import pandas as pd\n",
        "import matplotlib.pyplot as plt"
      ],
      "metadata": {
        "id": "0VDzzMxBDuXn"
      },
      "execution_count": 2,
      "outputs": []
    },
    {
      "cell_type": "code",
      "source": [
        "data_url = \"http://lib.stat.cmu.edu/datasets/boston\"\n",
        "# raw_df = pd.read_csv(data_url, sep=\"\\s+\", skiprows=22, header=['CRIM','ZN','INDUS','CHAS','NOX','RM','AGE','DIS','RAD','TAX','PTRATIO'])\n",
        "\n",
        "raw_df = pd.read_csv(data_url,sep='\\s+',skiprows=22,header=None)\n",
        "data = np.hstack([raw_df.values[::2, :], raw_df.values[1::2, :2]])\n",
        "target = raw_df.values[1::2, 2]"
      ],
      "metadata": {
        "id": "UgD5xbfADyxQ"
      },
      "execution_count": 3,
      "outputs": []
    },
    {
      "cell_type": "markdown",
      "source": [
        "# Model 1"
      ],
      "metadata": {
        "id": "fh0ycUVRD3vq"
      }
    },
    {
      "cell_type": "code",
      "source": [
        "from sklearn.model_selection import train_test_split\n",
        "X_train,X_test,y_train,y_test = train_test_split(data,target,test_size=0.2)"
      ],
      "metadata": {
        "id": "m2TH6FKOO1mL"
      },
      "execution_count": 4,
      "outputs": []
    },
    {
      "cell_type": "code",
      "source": [
        "tf.random.set_seed(1)\n",
        "\n",
        "model_1 = tf.keras.Sequential([\n",
        "    tf.keras.layers.Dense(1)\n",
        "])\n",
        "\n",
        "model_1.compile(loss=tf.keras.losses.mae,\n",
        "              optimizer='SGD',\n",
        "              metrics=['mae'])\n",
        "\n",
        "model_1.fit(X_train,y_train,epochs=5)"
      ],
      "metadata": {
        "colab": {
          "base_uri": "https://localhost:8080/",
          "height": 0
        },
        "id": "b7RCzJ8LEBJk",
        "outputId": "88de709f-32e6-4456-d373-133b9b78ab6e"
      },
      "execution_count": 5,
      "outputs": [
        {
          "output_type": "stream",
          "name": "stdout",
          "text": [
            "Epoch 1/5\n",
            "13/13 [==============================] - 2s 8ms/step - loss: 1355.7627 - mae: 1355.7627\n",
            "Epoch 2/5\n",
            "13/13 [==============================] - 0s 7ms/step - loss: 1520.8684 - mae: 1520.8684\n",
            "Epoch 3/5\n",
            "13/13 [==============================] - 0s 5ms/step - loss: 1434.2246 - mae: 1434.2246\n",
            "Epoch 4/5\n",
            "13/13 [==============================] - 0s 6ms/step - loss: 1494.5701 - mae: 1494.5701\n",
            "Epoch 5/5\n",
            "13/13 [==============================] - 0s 3ms/step - loss: 1450.7736 - mae: 1450.7736\n"
          ]
        },
        {
          "output_type": "execute_result",
          "data": {
            "text/plain": [
              "<keras.callbacks.History at 0x7fa06b088790>"
            ]
          },
          "metadata": {},
          "execution_count": 5
        }
      ]
    },
    {
      "cell_type": "code",
      "source": [
        "from tensorflow.keras.utils import plot_model"
      ],
      "metadata": {
        "id": "Vn8ZartEER94"
      },
      "execution_count": 6,
      "outputs": []
    },
    {
      "cell_type": "code",
      "source": [
        "plot_model(model_1)"
      ],
      "metadata": {
        "colab": {
          "base_uri": "https://localhost:8080/",
          "height": 174
        },
        "id": "DGk0Bx8_EYVe",
        "outputId": "bdeea2f3-471f-448a-f105-91fb555cc10d"
      },
      "execution_count": 7,
      "outputs": [
        {
          "output_type": "execute_result",
          "data": {
            "image/png": "[encoded data removed]",
            "text/plain": [
              "<IPython.core.display.Image object>"
            ]
          },
          "metadata": {},
          "execution_count": 7
        }
      ]
    },
    {
      "cell_type": "code",
      "source": [
        "model_1_preds = model_1.predict(X_test)"
      ],
      "metadata": {
        "colab": {
          "base_uri": "https://localhost:8080/",
          "height": 0
        },
        "id": "dD-7uzqYEgQI",
        "outputId": "8fcb3a15-49ff-4555-ce8d-29ef88d8a2bb"
      },
      "execution_count": 8,
      "outputs": [
        {
          "output_type": "stream",
          "name": "stdout",
          "text": [
            "4/4 [==============================] - 0s 3ms/step\n"
          ]
        }
      ]
    },
    {
      "cell_type": "code",
      "source": [
        "y_test"
      ],
      "metadata": {
        "colab": {
          "base_uri": "https://localhost:8080/",
          "height": 0
        },
        "id": "NT7MbFmJPFsk",
        "outputId": "13545e56-cec1-4290-cb22-d84702554004"
      },
      "execution_count": 9,
      "outputs": [
        {
          "output_type": "execute_result",
          "data": {
            "text/plain": [
              "array([37.3, 23.7, 48.8, 22.2, 19.4, 23.7, 19.2, 25.3, 43.1, 36.5, 18.6,\n",
              "       17.8, 50. , 19.5, 13.1, 22.2, 20.1, 20.3, 50. , 20.5, 12.5, 14.4,\n",
              "       22.3, 10.9, 23.4, 24.7, 18.3, 31.1, 13.6, 16.1, 10.2, 21.7, 11. ,\n",
              "       32.5, 15.6, 23. , 16.2, 14.9, 22.5, 12.3, 30.7, 23.1, 31.5, 36.4,\n",
              "       20.8, 37. , 20.9, 17.7, 50. , 19.8, 22.8, 26.4, 33.8, 50. , 23.2,\n",
              "       16.6, 19.9, 25. , 19.9, 23.2, 18.5, 31.7, 18.2, 22.3, 26.7, 20.8,\n",
              "        8.8, 10.2, 22.2, 20.2, 24.3, 32.4, 11.9, 23.7, 19.6, 17.4, 24. ,\n",
              "       13.3, 29.8, 24.4, 20. , 22. , 13.5, 15.2, 18.7, 13.8, 50. , 16.4,\n",
              "       24.5, 31.5, 21.5, 22. , 10.5, 19.8, 23.2, 13.8, 19.9, 15.6, 24.5,\n",
              "       21.9, 21.1, 32.9])"
            ]
          },
          "metadata": {},
          "execution_count": 9
        }
      ]
    },
    {
      "cell_type": "code",
      "source": [
        "model_1_preds"
      ],
      "metadata": {
        "colab": {
          "base_uri": "https://localhost:8080/",
          "height": 0
        },
        "id": "EZl-2DyhPtNY",
        "outputId": "e6908e98-6475-4fd8-b0d1-0eddfdf837ff"
      },
      "execution_count": 10,
      "outputs": [
        {
          "output_type": "execute_result",
          "data": {
            "text/plain": [
              "array([[2052.0764],\n",
              "       [2872.6467],\n",
              "       [2119.6233],\n",
              "       [2091.5742],\n",
              "       [2229.708 ],\n",
              "       [2086.24  ],\n",
              "       [2469.6494],\n",
              "       [1970.9813],\n",
              "       [2124.369 ],\n",
              "       [2124.6748],\n",
              "       [2338.1116],\n",
              "       [2477.1582],\n",
              "       [2388.019 ],\n",
              "       [2896.951 ],\n",
              "       [2088.7886],\n",
              "       [2091.2192],\n",
              "       [2191.3118],\n",
              "       [2351.0442],\n",
              "       [2304.6038],\n",
              "       [1936.8838],\n",
              "       [2908.9126],\n",
              "       [2482.091 ],\n",
              "       [2146.9197],\n",
              "       [1381.4998],\n",
              "       [2055.764 ],\n",
              "       [2015.8969],\n",
              "       [2374.855 ],\n",
              "       [2064.2703],\n",
              "       [2952.1848],\n",
              "       [2856.806 ],\n",
              "       [2906.518 ],\n",
              "       [2085.7466],\n",
              "       [1680.5791],\n",
              "       [2035.1859],\n",
              "       [2424.5957],\n",
              "       [2879.4634],\n",
              "       [2218.8223],\n",
              "       [2394.5266],\n",
              "       [2084.5618],\n",
              "       [2914.7285],\n",
              "       [2103.8787],\n",
              "       [2140.6328],\n",
              "       [2110.2307],\n",
              "       [2316.0864],\n",
              "       [2478.4783],\n",
              "       [2260.2998],\n",
              "       [2254.3818],\n",
              "       [2878.2441],\n",
              "       [2704.8752],\n",
              "       [2215.777 ],\n",
              "       [2223.9268],\n",
              "       [2007.4955],\n",
              "       [2135.7466],\n",
              "       [2824.3252],\n",
              "       [2166.9648],\n",
              "       [2157.051 ],\n",
              "       [2201.025 ],\n",
              "       [2054.8687],\n",
              "       [2897.0107],\n",
              "       [2873.7136],\n",
              "       [2164.1292],\n",
              "       [2143.885 ],\n",
              "       [2155.4111],\n",
              "       [2164.8616],\n",
              "       [2217.743 ],\n",
              "       [2322.6558],\n",
              "       [1411.3339],\n",
              "       [1374.4781],\n",
              "       [2009.17  ],\n",
              "       [2889.8445],\n",
              "       [2200.9077],\n",
              "       [2080.6997],\n",
              "       [2162.2896],\n",
              "       [2057.4778],\n",
              "       [2154.365 ],\n",
              "       [2258.5215],\n",
              "       [2194.2385],\n",
              "       [2913.578 ],\n",
              "       [2791.355 ],\n",
              "       [2139.0525],\n",
              "       [2898.5051],\n",
              "       [2240.857 ],\n",
              "       [1644.4023],\n",
              "       [2966.9932],\n",
              "       [2057.3066],\n",
              "       [2906.8794],\n",
              "       [2820.0447],\n",
              "       [2329.9187],\n",
              "       [2097.6963],\n",
              "       [2195.3787],\n",
              "       [2183.6636],\n",
              "       [2155.6177],\n",
              "       [2892.8276],\n",
              "       [2378.1494],\n",
              "       [2821.552 ],\n",
              "       [1518.287 ],\n",
              "       [2610.9595],\n",
              "       [2231.189 ],\n",
              "       [2151.154 ],\n",
              "       [2576.7507],\n",
              "       [2003.2834],\n",
              "       [2277.4814]], dtype=float32)"
            ]
          },
          "metadata": {},
          "execution_count": 10
        }
      ]
    },
    {
      "cell_type": "code",
      "source": [
        "plt.plot(y_test,label='truth')\n",
        "plt.plot(model_1_preds,label='prediction')\n",
        "plt.legend();"
      ],
      "metadata": {
        "colab": {
          "base_uri": "https://localhost:8080/",
          "height": 265
        },
        "id": "BatwiDA5PuQR",
        "outputId": "41c2e399-fead-4961-8474-b7f8a52441ee"
      },
      "execution_count": 11,
      "outputs": [
        {
          "output_type": "display_data",
          "data": {
            "text/plain": [
              "<Figure size 432x288 with 1 Axes>"
            ],
            "image/png": "[encoded data removed]"
          },
          "metadata": {
            "needs_background": "light"
          }
        }
      ]
    },
    {
      "cell_type": "code",
      "source": [
        "len(y_test),len(model_1_preds)"
      ],
      "metadata": {
        "colab": {
          "base_uri": "https://localhost:8080/",
          "height": 0
        },
        "id": "nlC9h-jpPxEQ",
        "outputId": "275f4914-98ec-4b5b-e8e2-f206a62d43df"
      },
      "execution_count": 12,
      "outputs": [
        {
          "output_type": "execute_result",
          "data": {
            "text/plain": [
              "(102, 102)"
            ]
          },
          "metadata": {},
          "execution_count": 12
        }
      ]
    },
    {
      "cell_type": "code",
      "source": [
        "y_test.shape,model_1_preds.shape"
      ],
      "metadata": {
        "colab": {
          "base_uri": "https://localhost:8080/",
          "height": 0
        },
        "id": "CoDYs9DeQrxq",
        "outputId": "81e183e2-31c8-4658-8a28-b498dee2db32"
      },
      "execution_count": 13,
      "outputs": [
        {
          "output_type": "execute_result",
          "data": {
            "text/plain": [
              "((102,), (102, 1))"
            ]
          },
          "metadata": {},
          "execution_count": 13
        }
      ]
    },
    {
      "cell_type": "code",
      "source": [
        "model_1_preds.reshape(len(model_1_preds)).shape\n",
        "\n",
        "x1=  [1,2,3,4]\n",
        "x2 = [4,5,6,7]\n",
        "# model.evaluate(x1,x2)"
      ],
      "metadata": {
        "id": "TfNSMWAxRZ4R"
      },
      "execution_count": 14,
      "outputs": []
    },
    {
      "cell_type": "code",
      "source": [
        "model_1.evaluate(X_test,y_test)"
      ],
      "metadata": {
        "colab": {
          "base_uri": "https://localhost:8080/",
          "height": 0
        },
        "id": "qYhym34TQmIi",
        "outputId": "2c3b2c52-b910-49b6-d7bd-f3ab05e6b164"
      },
      "execution_count": 15,
      "outputs": [
        {
          "output_type": "stream",
          "name": "stdout",
          "text": [
            "4/4 [==============================] - 0s 4ms/step - loss: 2279.2117 - mae: 2279.2117\n"
          ]
        },
        {
          "output_type": "execute_result",
          "data": {
            "text/plain": [
              "[2279.211669921875, 2279.211669921875]"
            ]
          },
          "metadata": {},
          "execution_count": 15
        }
      ]
    },
    {
      "cell_type": "code",
      "source": [
        "mae = tf.metrics.mean_absolute_error(y_true=y_test,\n",
        "                                     y_pred=tf.squeeze(model_1_preds))\n",
        "\n",
        "mae"
      ],
      "metadata": {
        "colab": {
          "base_uri": "https://localhost:8080/",
          "height": 0
        },
        "id": "YrkEYgQdTIP0",
        "outputId": "790e4c74-6148-492e-a787-3cedfb6f9833"
      },
      "execution_count": 16,
      "outputs": [
        {
          "output_type": "execute_result",
          "data": {
            "text/plain": [
              "<tf.Tensor: shape=(), dtype=float32, numpy=2279.2117>"
            ]
          },
          "metadata": {},
          "execution_count": 16
        }
      ]
    },
    {
      "cell_type": "code",
      "source": [
        "def maecalc(y_true,y_pred):\n",
        "  return tf.metrics.mean_absolute_error(y_true,y_pred)\n",
        "\n",
        "def msecalc(y_true,y_pred):\n",
        "  return tf.metrics.mean_squared_error(y_true,y_pred)"
      ],
      "metadata": {
        "id": "20iPNcqWTVfp"
      },
      "execution_count": 17,
      "outputs": []
    },
    {
      "cell_type": "code",
      "source": [
        "maecalc(y_test,model_1_preds.reshape(len(model_1_preds)))"
      ],
      "metadata": {
        "colab": {
          "base_uri": "https://localhost:8080/",
          "height": 0
        },
        "id": "vB9ghJoXTkd4",
        "outputId": "710b44fb-c5e0-4249-f993-9a42bb87aa55"
      },
      "execution_count": 18,
      "outputs": [
        {
          "output_type": "execute_result",
          "data": {
            "text/plain": [
              "<tf.Tensor: shape=(), dtype=float32, numpy=2279.2117>"
            ]
          },
          "metadata": {},
          "execution_count": 18
        }
      ]
    },
    {
      "cell_type": "code",
      "source": [
        "X_train.shape,y_train.shape,X_test.shape,y_test.shape"
      ],
      "metadata": {
        "colab": {
          "base_uri": "https://localhost:8080/",
          "height": 0
        },
        "id": "UGMGmYgHUW6x",
        "outputId": "5fd912f4-f84b-48ef-a27e-a1d7407001f6"
      },
      "execution_count": 19,
      "outputs": [
        {
          "output_type": "execute_result",
          "data": {
            "text/plain": [
              "((404, 13), (404,), (102, 13), (102,))"
            ]
          },
          "metadata": {},
          "execution_count": 19
        }
      ]
    },
    {
      "cell_type": "markdown",
      "source": [
        "# Model 2"
      ],
      "metadata": {
        "id": "FJuaYwxAkSBZ"
      }
    },
    {
      "cell_type": "code",
      "source": [
        "tf.random.set_seed(1)\n",
        "\n",
        "model_2 = tf.keras.Sequential([\n",
        "    tf.keras.layers.Dense(5),\n",
        "    tf.keras.layers.Dense(1)\n",
        "])\n",
        "\n",
        "model_2.compile(loss=tf.keras.losses.mae,\n",
        "              optimizer=tf.keras.optimizers.SGD(learning_rate=1e-3),\n",
        "              metrics=['mae'])\n",
        "\n",
        "model_2.fit(X_train,y_train,epochs=10)\n",
        "\n",
        "model_2_preds = model_2.predict(X_test)\n",
        "\n",
        "print(maecalc(y_test,model_2_preds.squeeze()))\n",
        "print(msecalc(y_test,model_2_preds.squeeze()))"
      ],
      "metadata": {
        "colab": {
          "base_uri": "https://localhost:8080/",
          "height": 0
        },
        "id": "4myNIgWoTwh3",
        "outputId": "625b3a09-b305-4e39-ad44-4339b6d3b8a6"
      },
      "execution_count": 20,
      "outputs": [
        {
          "output_type": "stream",
          "name": "stdout",
          "text": [
            "Epoch 1/10\n",
            "13/13 [==============================] - 1s 12ms/step - loss: 89.7599 - mae: 89.7599\n",
            "Epoch 2/10\n",
            "13/13 [==============================] - 0s 10ms/step - loss: 9.0024 - mae: 9.0024\n",
            "Epoch 3/10\n",
            "13/13 [==============================] - 0s 8ms/step - loss: 9.4186 - mae: 9.4186\n",
            "Epoch 4/10\n",
            "13/13 [==============================] - 0s 5ms/step - loss: 9.6342 - mae: 9.6342\n",
            "Epoch 5/10\n",
            "13/13 [==============================] - 0s 6ms/step - loss: 9.9401 - mae: 9.9401\n",
            "Epoch 6/10\n",
            "13/13 [==============================] - 0s 9ms/step - loss: 9.9316 - mae: 9.9316\n",
            "Epoch 7/10\n",
            "13/13 [==============================] - 0s 9ms/step - loss: 8.7662 - mae: 8.7662\n",
            "Epoch 8/10\n",
            "13/13 [==============================] - 0s 8ms/step - loss: 8.1630 - mae: 8.1630\n",
            "Epoch 9/10\n",
            "13/13 [==============================] - 0s 6ms/step - loss: 8.7196 - mae: 8.7196\n",
            "Epoch 10/10\n",
            "13/13 [==============================] - 0s 9ms/step - loss: 8.9841 - mae: 8.9841\n",
            "4/4 [==============================] - 0s 5ms/step\n",
            "tf.Tensor(6.6700764, shape=(), dtype=float32)\n",
            "tf.Tensor(105.06414, shape=(), dtype=float32)\n"
          ]
        }
      ]
    },
    {
      "cell_type": "code",
      "source": [
        "X_train.shape,X_test.shape,y_train.shape,y_test.shape,"
      ],
      "metadata": {
        "colab": {
          "base_uri": "https://localhost:8080/",
          "height": 0
        },
        "id": "o9TymAM5UtnV",
        "outputId": "c908bb71-31f9-4a4a-c1e5-2f07320cbc50"
      },
      "execution_count": 21,
      "outputs": [
        {
          "output_type": "execute_result",
          "data": {
            "text/plain": [
              "((404, 13), (102, 13), (404,), (102,))"
            ]
          },
          "metadata": {},
          "execution_count": 21
        }
      ]
    },
    {
      "cell_type": "code",
      "source": [
        "model_1_preds = model_1.predict(X_test)\n",
        "model_2_preds = model_2.predict(X_test)"
      ],
      "metadata": {
        "colab": {
          "base_uri": "https://localhost:8080/",
          "height": 0
        },
        "id": "LWw6z2zJQX5I",
        "outputId": "5a0cc863-700d-42d9-f654-1a763723c2cf"
      },
      "execution_count": 22,
      "outputs": [
        {
          "output_type": "stream",
          "name": "stdout",
          "text": [
            "4/4 [==============================] - 0s 7ms/step\n",
            "4/4 [==============================] - 0s 3ms/step\n"
          ]
        }
      ]
    },
    {
      "cell_type": "code",
      "source": [
        "print(maecalc(y_test,model_1_preds.reshape(len(model_1_preds))))\n",
        "print(maecalc(y_test,model_2_preds.reshape(len(model_2_preds))))"
      ],
      "metadata": {
        "colab": {
          "base_uri": "https://localhost:8080/",
          "height": 0
        },
        "id": "7hDzyhzHUO_z",
        "outputId": "e3c293f8-b211-4114-bdde-62858655830f"
      },
      "execution_count": 23,
      "outputs": [
        {
          "output_type": "stream",
          "name": "stdout",
          "text": [
            "tf.Tensor(2279.2117, shape=(), dtype=float32)\n",
            "tf.Tensor(6.6700764, shape=(), dtype=float32)\n"
          ]
        }
      ]
    },
    {
      "cell_type": "code",
      "source": [
        "print(msecalc(y_test,model_1_preds.reshape(len(model_1_preds))))\n",
        "print(msecalc(y_test,model_2_preds.reshape(len(model_2_preds))))"
      ],
      "metadata": {
        "colab": {
          "base_uri": "https://localhost:8080/",
          "height": 0
        },
        "id": "4xbR3rieUor-",
        "outputId": "07edf720-fc00-4f56-bfb3-aa9ffbcc5a9a"
      },
      "execution_count": 24,
      "outputs": [
        {
          "output_type": "stream",
          "name": "stdout",
          "text": [
            "tf.Tensor(5327774.0, shape=(), dtype=float32)\n",
            "tf.Tensor(105.06414, shape=(), dtype=float32)\n"
          ]
        }
      ]
    },
    {
      "cell_type": "code",
      "source": [
        "X_train[0].shape"
      ],
      "metadata": {
        "colab": {
          "base_uri": "https://localhost:8080/",
          "height": 0
        },
        "id": "mReAnfSCU3ra",
        "outputId": "3c5bac89-1ccf-4591-8c0d-ed693b588517"
      },
      "execution_count": 25,
      "outputs": [
        {
          "output_type": "execute_result",
          "data": {
            "text/plain": [
              "(13,)"
            ]
          },
          "metadata": {},
          "execution_count": 25
        }
      ]
    },
    {
      "cell_type": "markdown",
      "source": [
        "# Model 3"
      ],
      "metadata": {
        "id": "2mWxNPCtkUjs"
      }
    },
    {
      "cell_type": "code",
      "source": [
        "tf.random.set_seed(1)\n",
        "\n",
        "model_3 = tf.keras.Sequential([\n",
        "    tf.keras.layers.Dense(5,input_shape=(13,)),\n",
        "    tf.keras.layers.Dense(10),\n",
        "    tf.keras.layers.Dense(1)\n",
        "])\n",
        "\n",
        "model_3.compile(loss=tf.keras.losses.mae,\n",
        "              optimizer=tf.keras.optimizers.SGD(learning_rate=1e-3),\n",
        "              metrics=['mae'])\n",
        "\n",
        "model_3.fit(X_train,y_train,epochs=10)\n",
        "\n",
        "model_3_preds = model_3.predict(X_test)\n",
        "\n",
        "print(maecalc(y_test,model_3_preds.squeeze()))\n",
        "print(msecalc(y_test,model_3_preds.squeeze()))"
      ],
      "metadata": {
        "colab": {
          "base_uri": "https://localhost:8080/",
          "height": 0
        },
        "id": "Af_sB3fzUrJN",
        "outputId": "313de642-cd01-48e5-e725-a1c0887eb2c7"
      },
      "execution_count": 26,
      "outputs": [
        {
          "output_type": "stream",
          "name": "stdout",
          "text": [
            "Epoch 1/10\n",
            "13/13 [==============================] - 1s 6ms/step - loss: 83.4451 - mae: 83.4451\n",
            "Epoch 2/10\n",
            "13/13 [==============================] - 0s 6ms/step - loss: 9.9622 - mae: 9.9622\n",
            "Epoch 3/10\n",
            "13/13 [==============================] - 0s 4ms/step - loss: 9.6314 - mae: 9.6314\n",
            "Epoch 4/10\n",
            "13/13 [==============================] - 0s 3ms/step - loss: 10.1453 - mae: 10.1453\n",
            "Epoch 5/10\n",
            "13/13 [==============================] - 0s 3ms/step - loss: 9.4408 - mae: 9.4408\n",
            "Epoch 6/10\n",
            "13/13 [==============================] - 0s 4ms/step - loss: 9.8765 - mae: 9.8765\n",
            "Epoch 7/10\n",
            "13/13 [==============================] - 0s 7ms/step - loss: 9.4143 - mae: 9.4143\n",
            "Epoch 8/10\n",
            "13/13 [==============================] - 0s 4ms/step - loss: 9.6082 - mae: 9.6082\n",
            "Epoch 9/10\n",
            "13/13 [==============================] - 0s 3ms/step - loss: 8.6970 - mae: 8.6970\n",
            "Epoch 10/10\n",
            "13/13 [==============================] - 0s 4ms/step - loss: 8.6059 - mae: 8.6059\n",
            "4/4 [==============================] - 0s 4ms/step\n",
            "tf.Tensor(7.6767454, shape=(), dtype=float32)\n",
            "tf.Tensor(122.21457, shape=(), dtype=float32)\n"
          ]
        }
      ]
    },
    {
      "cell_type": "code",
      "source": [
        "# mae_mse_results = pd.DataFrame({\"model\",\"mse\",\"mae\"}).transpose()\n",
        "# mae_mse_results['model_1'] = {maecalc(y_test,model_1_preds.reshape(len(model_1_preds))).numpy(),msecalc(y_test,model_1_preds.reshape(len(model_1_preds))).numpy()}\n",
        "# # maecalc(y_test,model_1_preds.reshape(len(model_1_preds))).numpy()\n",
        "\n",
        "mae_mse_results = pd.DataFrame([['model_1',maecalc(y_test,model_1_preds.reshape(len(model_1_preds))).numpy(),msecalc(y_test,model_1_preds.reshape(len(model_1_preds))).numpy()],\n",
        "                                ['model_2',maecalc(y_test,model_2_preds.reshape(len(model_2_preds))).numpy(),msecalc(y_test,model_2_preds.reshape(len(model_2_preds))).numpy()],\n",
        "                                ['model_3',maecalc(y_test,model_3_preds.reshape(len(model_3_preds))).numpy(),msecalc(y_test,model_3_preds.reshape(len(model_3_preds))).numpy()]],columns=['model','mae','mse'])\n",
        "mae_mse_results"
      ],
      "metadata": {
        "colab": {
          "base_uri": "https://localhost:8080/",
          "height": 143
        },
        "id": "7C7Ip_HAVdDr",
        "outputId": "dbc121fb-c21b-412f-efd6-aaef175288c1"
      },
      "execution_count": 27,
      "outputs": [
        {
          "output_type": "execute_result",
          "data": {
            "text/plain": [
              "     model          mae           mse\n",
              "0  model_1  2279.211670  5.327774e+06\n",
              "1  model_2     6.670076  1.050641e+02\n",
              "2  model_3     7.676745  1.222146e+02"
            ],
            "text/html": [
              "\n",
              "  <div id=\"df-a6bf6e2b-496e-42fb-a2e2-a46cf7193393\">\n",
              "    <div class=\"colab-df-container\">\n",
              "      <div>\n",
              "<style scoped>\n",
              "    .dataframe tbody tr th:only-of-type {\n",
              "        vertical-align: middle;\n",
              "    }\n",
              "\n",
              "    .dataframe tbody tr th {\n",
              "        vertical-align: top;\n",
              "    }\n",
              "\n",
              "    .dataframe thead th {\n",
              "        text-align: right;\n",
              "    }\n",
              "</style>\n",
              "<table border=\"1\" class=\"dataframe\">\n",
              "  <thead>\n",
              "    <tr style=\"text-align: right;\">\n",
              "      <th></th>\n",
              "      <th>model</th>\n",
              "      <th>mae</th>\n",
              "      <th>mse</th>\n",
              "    </tr>\n",
              "  </thead>\n",
              "  <tbody>\n",
              "    <tr>\n",
              "      <th>0</th>\n",
              "      <td>model_1</td>\n",
              "      <td>2279.211670</td>\n",
              "      <td>5.327774e+06</td>\n",
              "    </tr>\n",
              "    <tr>\n",
              "      <th>1</th>\n",
              "      <td>model_2</td>\n",
              "      <td>6.670076</td>\n",
              "      <td>1.050641e+02</td>\n",
              "    </tr>\n",
              "    <tr>\n",
              "      <th>2</th>\n",
              "      <td>model_3</td>\n",
              "      <td>7.676745</td>\n",
              "      <td>1.222146e+02</td>\n",
              "    </tr>\n",
              "  </tbody>\n",
              "</table>\n",
              "</div>\n",
              "      <button class=\"colab-df-convert\" onclick=\"convertToInteractive('df-a6bf6e2b-496e-42fb-a2e2-a46cf7193393')\"\n",
              "              title=\"Convert this dataframe to an interactive table.\"\n",
              "              style=\"display:none;\">\n",
              "        \n",
              "  <svg xmlns=\"http://www.w3.org/2000/svg\" height=\"24px\"viewBox=\"0 0 24 24\"\n",
              "       width=\"24px\">\n",
              "    <path d=\"M0 0h24v24H0V0z\" fill=\"none\"/>\n",
              "    <path d=\"M18.56 5.44l.94 2.06.94-2.06 2.06-.94-2.06-.94-.94-2.06-.94 2.06-2.06.94zm-11 1L8.5 8.5l.94-2.06 2.06-.94-2.06-.94L8.5 2.5l-.94 2.06-2.06.94zm10 10l.94 2.06.94-2.06 2.06-.94-2.06-.94-.94-2.06-.94 2.06-2.06.94z\"/><path d=\"M17.41 7.96l-1.37-1.37c-.4-.4-.92-.59-1.43-.59-.52 0-1.04.2-1.43.59L10.3 9.45l-7.72 7.72c-.78.78-.78 2.05 0 2.83L4 21.41c.39.39.9.59 1.41.59.51 0 1.02-.2 1.41-.59l7.78-7.78 2.81-2.81c.8-.78.8-2.07 0-2.86zM5.41 20L4 18.59l7.72-7.72 1.47 1.35L5.41 20z\"/>\n",
              "  </svg>\n",
              "      </button>\n",
              "      \n",
              "  <style>\n",
              "    .colab-df-container {\n",
              "      display:flex;\n",
              "      flex-wrap:wrap;\n",
              "      gap: 12px;\n",
              "    }\n",
              "\n",
              "    .colab-df-convert {\n",
              "      background-color: #E8F0FE;\n",
              "      border: none;\n",
              "      border-radius: 50%;\n",
              "      cursor: pointer;\n",
              "      display: none;\n",
              "      fill: #1967D2;\n",
              "      height: 32px;\n",
              "      padding: 0 0 0 0;\n",
              "      width: 32px;\n",
              "    }\n",
              "\n",
              "    .colab-df-convert:hover {\n",
              "      background-color: #E2EBFA;\n",
              "      box-shadow: 0px 1px 2px rgba(60, 64, 67, 0.3), 0px 1px 3px 1px rgba(60, 64, 67, 0.15);\n",
              "      fill: #174EA6;\n",
              "    }\n",
              "\n",
              "    [theme=dark] .colab-df-convert {\n",
              "      background-color: #3B4455;\n",
              "      fill: #D2E3FC;\n",
              "    }\n",
              "\n",
              "    [theme=dark] .colab-df-convert:hover {\n",
              "      background-color: #434B5C;\n",
              "      box-shadow: 0px 1px 3px 1px rgba(0, 0, 0, 0.15);\n",
              "      filter: drop-shadow(0px 1px 2px rgba(0, 0, 0, 0.3));\n",
              "      fill: #FFFFFF;\n",
              "    }\n",
              "  </style>\n",
              "\n",
              "      <script>\n",
              "        const buttonEl =\n",
              "          document.querySelector('#df-a6bf6e2b-496e-42fb-a2e2-a46cf7193393 button.colab-df-convert');\n",
              "        buttonEl.style.display =\n",
              "          google.colab.kernel.accessAllowed ? 'block' : 'none';\n",
              "\n",
              "        async function convertToInteractive(key) {\n",
              "          const element = document.querySelector('#df-a6bf6e2b-496e-42fb-a2e2-a46cf7193393');\n",
              "          const dataTable =\n",
              "            await google.colab.kernel.invokeFunction('convertToInteractive',\n",
              "                                                     [key], {});\n",
              "          if (!dataTable) return;\n",
              "\n",
              "          const docLinkHtml = 'Like what you see? Visit the ' +\n",
              "            '<a target=\"_blank\" href=https://colab.research.google.com/notebooks/data_table.ipynb>data table notebook</a>'\n",
              "            + ' to learn more about interactive tables.';\n",
              "          element.innerHTML = '';\n",
              "          dataTable['output_type'] = 'display_data';\n",
              "          await google.colab.output.renderOutput(dataTable, element);\n",
              "          const docLink = document.createElement('div');\n",
              "          docLink.innerHTML = docLinkHtml;\n",
              "          element.appendChild(docLink);\n",
              "        }\n",
              "      </script>\n",
              "    </div>\n",
              "  </div>\n",
              "  "
            ]
          },
          "metadata": {},
          "execution_count": 27
        }
      ]
    },
    {
      "cell_type": "code",
      "source": [
        "# mae_mse_results = mae_mse_results.append({'model_4',1.4123,2.452})\n",
        "# mae_mse_results = mae_mse_results.append(({'model_4',3.41,5.61}))\n",
        "\n",
        "# df2 = pd.DataFrame([['model_4',3.412,5.6323]],columns=['model','mae','mse'])\n",
        "# mae_mse_results.append(df2,ignore_index=True)\n",
        "# mae_mse_results.append(df2)\n",
        "\n",
        "# mae_mse_results = mae_mse_results.append( pd.DataFrame([[ 'model_',maecalc(y_test,model_)     ]],columns=['model','mae','mse'])   )\n",
        "\n",
        "# mae_mse_results.append( pd.DataFrame([['model_5',5.63234,55656]],columns=['model','mae','mse']),ignore_index=True)"
      ],
      "metadata": {
        "id": "H-UbYo5OXSJd"
      },
      "execution_count": 28,
      "outputs": []
    },
    {
      "cell_type": "markdown",
      "source": [
        "# Model 4"
      ],
      "metadata": {
        "id": "Q9FO8vuKkYCj"
      }
    },
    {
      "cell_type": "code",
      "source": [
        "tf.random.set_seed(1)\n",
        "\n",
        "model_4 = tf.keras.Sequential([\n",
        "    tf.keras.layers.Dense(5,input_shape=(13,)),\n",
        "    tf.keras.layers.Dense(10),\n",
        "    tf.keras.layers.Dense(1)\n",
        "])\n",
        "\n",
        "model_4.compile(loss=tf.keras.losses.mae,\n",
        "              optimizer=tf.keras.optimizers.SGD(learning_rate=1e-3),\n",
        "              metrics=['mae'])\n",
        "\n",
        "model_4.fit(X_train,y_train,epochs=10)\n",
        "\n",
        "model_4_preds = model_3.predict(X_test)\n",
        "\n",
        "print(maecalc(y_test,model_4_preds.squeeze()))\n",
        "print(msecalc(y_test,model_4_preds.squeeze()))"
      ],
      "metadata": {
        "colab": {
          "base_uri": "https://localhost:8080/",
          "height": 0
        },
        "id": "lFzr4WlA6oU6",
        "outputId": "3e54f320-4d9a-425f-dd9a-8012bc328578"
      },
      "execution_count": 29,
      "outputs": [
        {
          "output_type": "stream",
          "name": "stdout",
          "text": [
            "Epoch 1/10\n",
            "13/13 [==============================] - 1s 5ms/step - loss: 67.7336 - mae: 67.7336\n",
            "Epoch 2/10\n",
            "13/13 [==============================] - 0s 4ms/step - loss: 13.7008 - mae: 13.7008\n",
            "Epoch 3/10\n",
            "13/13 [==============================] - 0s 4ms/step - loss: 10.3138 - mae: 10.3138\n",
            "Epoch 4/10\n",
            "13/13 [==============================] - 0s 8ms/step - loss: 11.6465 - mae: 11.6465\n",
            "Epoch 5/10\n",
            "13/13 [==============================] - 0s 6ms/step - loss: 9.3686 - mae: 9.3686\n",
            "Epoch 6/10\n",
            "13/13 [==============================] - 0s 4ms/step - loss: 10.0375 - mae: 10.0375\n",
            "Epoch 7/10\n",
            "13/13 [==============================] - 0s 3ms/step - loss: 9.2440 - mae: 9.2440\n",
            "Epoch 8/10\n",
            "13/13 [==============================] - 0s 6ms/step - loss: 9.8145 - mae: 9.8145\n",
            "Epoch 9/10\n",
            "13/13 [==============================] - 0s 4ms/step - loss: 7.9670 - mae: 7.9670\n",
            "Epoch 10/10\n",
            "13/13 [==============================] - 0s 5ms/step - loss: 8.8211 - mae: 8.8211\n",
            "4/4 [==============================] - 0s 3ms/step\n",
            "tf.Tensor(7.6767454, shape=(), dtype=float32)\n",
            "tf.Tensor(122.21457, shape=(), dtype=float32)\n"
          ]
        }
      ]
    },
    {
      "cell_type": "code",
      "source": [
        "mae_mse_results = mae_mse_results.append( pd.DataFrame([[ 'model_4',maecalc(y_test,model_4_preds.reshape(len(model_4_preds))).numpy(),msecalc(y_test,model_4_preds.reshape(len(model_4_preds))).numpy()  ]],columns=['model','mae','mse'])   )\n"
      ],
      "metadata": {
        "id": "F4K3Oh77Y1TG"
      },
      "execution_count": 30,
      "outputs": []
    },
    {
      "cell_type": "code",
      "source": [
        "mae_mse_results"
      ],
      "metadata": {
        "colab": {
          "base_uri": "https://localhost:8080/",
          "height": 174
        },
        "id": "ctt7x4j-6PKj",
        "outputId": "8e90f84c-e903-41cc-a861-b348f34e8fcf"
      },
      "execution_count": 31,
      "outputs": [
        {
          "output_type": "execute_result",
          "data": {
            "text/plain": [
              "     model          mae           mse\n",
              "0  model_1  2279.211670  5.327774e+06\n",
              "1  model_2     6.670076  1.050641e+02\n",
              "2  model_3     7.676745  1.222146e+02\n",
              "0  model_4     7.676745  1.222146e+02"
            ],
            "text/html": [
              "\n",
              "  <div id=\"df-6e74623f-7ab6-4a13-bec4-4ff9a8138df8\">\n",
              "    <div class=\"colab-df-container\">\n",
              "      <div>\n",
              "<style scoped>\n",
              "    .dataframe tbody tr th:only-of-type {\n",
              "        vertical-align: middle;\n",
              "    }\n",
              "\n",
              "    .dataframe tbody tr th {\n",
              "        vertical-align: top;\n",
              "    }\n",
              "\n",
              "    .dataframe thead th {\n",
              "        text-align: right;\n",
              "    }\n",
              "</style>\n",
              "<table border=\"1\" class=\"dataframe\">\n",
              "  <thead>\n",
              "    <tr style=\"text-align: right;\">\n",
              "      <th></th>\n",
              "      <th>model</th>\n",
              "      <th>mae</th>\n",
              "      <th>mse</th>\n",
              "    </tr>\n",
              "  </thead>\n",
              "  <tbody>\n",
              "    <tr>\n",
              "      <th>0</th>\n",
              "      <td>model_1</td>\n",
              "      <td>2279.211670</td>\n",
              "      <td>5.327774e+06</td>\n",
              "    </tr>\n",
              "    <tr>\n",
              "      <th>1</th>\n",
              "      <td>model_2</td>\n",
              "      <td>6.670076</td>\n",
              "      <td>1.050641e+02</td>\n",
              "    </tr>\n",
              "    <tr>\n",
              "      <th>2</th>\n",
              "      <td>model_3</td>\n",
              "      <td>7.676745</td>\n",
              "      <td>1.222146e+02</td>\n",
              "    </tr>\n",
              "    <tr>\n",
              "      <th>0</th>\n",
              "      <td>model_4</td>\n",
              "      <td>7.676745</td>\n",
              "      <td>1.222146e+02</td>\n",
              "    </tr>\n",
              "  </tbody>\n",
              "</table>\n",
              "</div>\n",
              "      <button class=\"colab-df-convert\" onclick=\"convertToInteractive('df-6e74623f-7ab6-4a13-bec4-4ff9a8138df8')\"\n",
              "              title=\"Convert this dataframe to an interactive table.\"\n",
              "              style=\"display:none;\">\n",
              "        \n",
              "  <svg xmlns=\"http://www.w3.org/2000/svg\" height=\"24px\"viewBox=\"0 0 24 24\"\n",
              "       width=\"24px\">\n",
              "    <path d=\"M0 0h24v24H0V0z\" fill=\"none\"/>\n",
              "    <path d=\"M18.56 5.44l.94 2.06.94-2.06 2.06-.94-2.06-.94-.94-2.06-.94 2.06-2.06.94zm-11 1L8.5 8.5l.94-2.06 2.06-.94-2.06-.94L8.5 2.5l-.94 2.06-2.06.94zm10 10l.94 2.06.94-2.06 2.06-.94-2.06-.94-.94-2.06-.94 2.06-2.06.94z\"/><path d=\"M17.41 7.96l-1.37-1.37c-.4-.4-.92-.59-1.43-.59-.52 0-1.04.2-1.43.59L10.3 9.45l-7.72 7.72c-.78.78-.78 2.05 0 2.83L4 21.41c.39.39.9.59 1.41.59.51 0 1.02-.2 1.41-.59l7.78-7.78 2.81-2.81c.8-.78.8-2.07 0-2.86zM5.41 20L4 18.59l7.72-7.72 1.47 1.35L5.41 20z\"/>\n",
              "  </svg>\n",
              "      </button>\n",
              "      \n",
              "  <style>\n",
              "    .colab-df-container {\n",
              "      display:flex;\n",
              "      flex-wrap:wrap;\n",
              "      gap: 12px;\n",
              "    }\n",
              "\n",
              "    .colab-df-convert {\n",
              "      background-color: #E8F0FE;\n",
              "      border: none;\n",
              "      border-radius: 50%;\n",
              "      cursor: pointer;\n",
              "      display: none;\n",
              "      fill: #1967D2;\n",
              "      height: 32px;\n",
              "      padding: 0 0 0 0;\n",
              "      width: 32px;\n",
              "    }\n",
              "\n",
              "    .colab-df-convert:hover {\n",
              "      background-color: #E2EBFA;\n",
              "      box-shadow: 0px 1px 2px rgba(60, 64, 67, 0.3), 0px 1px 3px 1px rgba(60, 64, 67, 0.15);\n",
              "      fill: #174EA6;\n",
              "    }\n",
              "\n",
              "    [theme=dark] .colab-df-convert {\n",
              "      background-color: #3B4455;\n",
              "      fill: #D2E3FC;\n",
              "    }\n",
              "\n",
              "    [theme=dark] .colab-df-convert:hover {\n",
              "      background-color: #434B5C;\n",
              "      box-shadow: 0px 1px 3px 1px rgba(0, 0, 0, 0.15);\n",
              "      filter: drop-shadow(0px 1px 2px rgba(0, 0, 0, 0.3));\n",
              "      fill: #FFFFFF;\n",
              "    }\n",
              "  </style>\n",
              "\n",
              "      <script>\n",
              "        const buttonEl =\n",
              "          document.querySelector('#df-6e74623f-7ab6-4a13-bec4-4ff9a8138df8 button.colab-df-convert');\n",
              "        buttonEl.style.display =\n",
              "          google.colab.kernel.accessAllowed ? 'block' : 'none';\n",
              "\n",
              "        async function convertToInteractive(key) {\n",
              "          const element = document.querySelector('#df-6e74623f-7ab6-4a13-bec4-4ff9a8138df8');\n",
              "          const dataTable =\n",
              "            await google.colab.kernel.invokeFunction('convertToInteractive',\n",
              "                                                     [key], {});\n",
              "          if (!dataTable) return;\n",
              "\n",
              "          const docLinkHtml = 'Like what you see? Visit the ' +\n",
              "            '<a target=\"_blank\" href=https://colab.research.google.com/notebooks/data_table.ipynb>data table notebook</a>'\n",
              "            + ' to learn more about interactive tables.';\n",
              "          element.innerHTML = '';\n",
              "          dataTable['output_type'] = 'display_data';\n",
              "          await google.colab.output.renderOutput(dataTable, element);\n",
              "          const docLink = document.createElement('div');\n",
              "          docLink.innerHTML = docLinkHtml;\n",
              "          element.appendChild(docLink);\n",
              "        }\n",
              "      </script>\n",
              "    </div>\n",
              "  </div>\n",
              "  "
            ]
          },
          "metadata": {},
          "execution_count": 31
        }
      ]
    },
    {
      "cell_type": "code",
      "source": [
        "plt.figure(figsize=(10,7))\n",
        "plt.plot(y_test)\n",
        "# plt.plot(model_1_preds);"
      ],
      "metadata": {
        "colab": {
          "base_uri": "https://localhost:8080/",
          "height": 445
        },
        "id": "G4q95oi-Zjkq",
        "outputId": "9680383a-1e3c-4c77-f3e9-620f58a79155"
      },
      "execution_count": 32,
      "outputs": [
        {
          "output_type": "execute_result",
          "data": {
            "text/plain": [
              "[<matplotlib.lines.Line2D at 0x7fa06b774190>]"
            ]
          },
          "metadata": {},
          "execution_count": 32
        },
        {
          "output_type": "display_data",
          "data": {
            "text/plain": [
              "<Figure size 720x504 with 1 Axes>"
            ],
            "image/png": "[encoded data removed]"
          },
          "metadata": {
            "needs_background": "light"
          }
        }
      ]
    },
    {
      "cell_type": "code",
      "source": [
        "x = f'model_1_preds'\n",
        "for i in range(1,5):\n",
        "  print(eval(f'model_{i}_preds[0]'))"
      ],
      "metadata": {
        "colab": {
          "base_uri": "https://localhost:8080/",
          "height": 0
        },
        "id": "AaOSZp7Hh6v2",
        "outputId": "1cf29571-cd08-4c39-acf7-9af66e18ab15"
      },
      "execution_count": 33,
      "outputs": [
        {
          "output_type": "stream",
          "name": "stdout",
          "text": [
            "[2052.0764]\n",
            "[24.45924]\n",
            "[21.6709]\n",
            "[21.6709]\n"
          ]
        }
      ]
    },
    {
      "cell_type": "code",
      "source": [
        "fig,ax = plt.subplots(len(mae_mse_results),1,figsize=(10,7))\n",
        "i = 1\n",
        "for axes in ax:\n",
        "  axes.plot(y_test)\n",
        "  axes.plot(eval(f'model_{i}_preds'))\n",
        "  axes.set_xlabel('Test Cases')\n",
        "  axes.set_ylabel(f'model_{i}_preds')\n",
        "  i += 1"
      ],
      "metadata": {
        "colab": {
          "base_uri": "https://localhost:8080/",
          "height": 443
        },
        "id": "-pF6eGSpbgkE",
        "outputId": "5e672f40-a0db-4314-f284-9716845a57f8"
      },
      "execution_count": 34,
      "outputs": [
        {
          "output_type": "display_data",
          "data": {
            "text/plain": [
              "<Figure size 720x504 with 4 Axes>"
            ],
            "image/png": "[encoded data removed]"
          },
          "metadata": {
            "needs_background": "light"
          }
        }
      ]
    },
    {
      "cell_type": "markdown",
      "source": [
        "# Model 5"
      ],
      "metadata": {
        "id": "rGG4_VqJkHoe"
      }
    },
    {
      "cell_type": "code",
      "source": [
        "tf.random.set_seed(1)\n",
        "\n",
        "model_5 = tf.keras.Sequential([\n",
        "    tf.keras.layers.Dense(5,input_shape=(13,)),\n",
        "    tf.keras.layers.Dense(10),\n",
        "    tf.keras.layers.Dense(1)\n",
        "])\n",
        "\n",
        "model_5.compile(loss=tf.keras.losses.mae,\n",
        "              optimizer=tf.keras.optimizers.SGD(learning_rate=1e-3),\n",
        "              metrics=['mae'])\n",
        "\n",
        "model_5.fit(X_train,y_train,epochs=100)\n",
        "\n",
        "model_5_preds = model_3.predict(X_test)\n",
        "\n",
        "print(maecalc(y_test,model_5_preds.squeeze()))\n",
        "print(msecalc(y_test,model_5_preds.squeeze()))"
      ],
      "metadata": {
        "colab": {
          "base_uri": "https://localhost:8080/",
          "height": 0
        },
        "id": "4MkYiHQwkhf7",
        "outputId": "5cabadd6-f2cf-4ce9-8694-2079172b9544"
      },
      "execution_count": 35,
      "outputs": [
        {
          "output_type": "stream",
          "name": "stdout",
          "text": [
            "Epoch 1/100\n",
            "13/13 [==============================] - 1s 4ms/step - loss: 65.6290 - mae: 65.6290\n",
            "Epoch 2/100\n",
            "13/13 [==============================] - 0s 5ms/step - loss: 9.3731 - mae: 9.3731\n",
            "Epoch 3/100\n",
            "13/13 [==============================] - 0s 3ms/step - loss: 10.5036 - mae: 10.5036\n",
            "Epoch 4/100\n",
            "13/13 [==============================] - 0s 3ms/step - loss: 10.4330 - mae: 10.4330\n",
            "Epoch 5/100\n",
            "13/13 [==============================] - 0s 3ms/step - loss: 8.7177 - mae: 8.7177\n",
            "Epoch 6/100\n",
            "13/13 [==============================] - 0s 3ms/step - loss: 8.1377 - mae: 8.1377\n",
            "Epoch 7/100\n",
            "13/13 [==============================] - 0s 7ms/step - loss: 9.0723 - mae: 9.0723\n",
            "Epoch 8/100\n",
            "13/13 [==============================] - 0s 3ms/step - loss: 8.6363 - mae: 8.6363\n",
            "Epoch 9/100\n",
            "13/13 [==============================] - 0s 3ms/step - loss: 8.8407 - mae: 8.8407\n",
            "Epoch 10/100\n",
            "13/13 [==============================] - 0s 4ms/step - loss: 8.4455 - mae: 8.4455\n",
            "Epoch 11/100\n",
            "13/13 [==============================] - 0s 3ms/step - loss: 7.3362 - mae: 7.3362\n",
            "Epoch 12/100\n",
            "13/13 [==============================] - 0s 3ms/step - loss: 8.6873 - mae: 8.6873\n",
            "Epoch 13/100\n",
            "13/13 [==============================] - 0s 4ms/step - loss: 7.8552 - mae: 7.8552\n",
            "Epoch 14/100\n",
            "13/13 [==============================] - 0s 3ms/step - loss: 8.7495 - mae: 8.7495\n",
            "Epoch 15/100\n",
            "13/13 [==============================] - 0s 4ms/step - loss: 7.9572 - mae: 7.9572\n",
            "Epoch 16/100\n",
            "13/13 [==============================] - 0s 8ms/step - loss: 7.8908 - mae: 7.8908\n",
            "Epoch 17/100\n",
            "13/13 [==============================] - 0s 4ms/step - loss: 7.9892 - mae: 7.9892\n",
            "Epoch 18/100\n",
            "13/13 [==============================] - 0s 3ms/step - loss: 7.6890 - mae: 7.6890\n",
            "Epoch 19/100\n",
            "13/13 [==============================] - 0s 3ms/step - loss: 7.3915 - mae: 7.3915\n",
            "Epoch 20/100\n",
            "13/13 [==============================] - 0s 3ms/step - loss: 8.6309 - mae: 8.6309\n",
            "Epoch 21/100\n",
            "13/13 [==============================] - 0s 3ms/step - loss: 7.2993 - mae: 7.2993\n",
            "Epoch 22/100\n",
            "13/13 [==============================] - 0s 6ms/step - loss: 8.1491 - mae: 8.1491\n",
            "Epoch 23/100\n",
            "13/13 [==============================] - 0s 4ms/step - loss: 6.8577 - mae: 6.8577\n",
            "Epoch 24/100\n",
            "13/13 [==============================] - 0s 7ms/step - loss: 7.8772 - mae: 7.8772\n",
            "Epoch 25/100\n",
            "13/13 [==============================] - 0s 7ms/step - loss: 7.3088 - mae: 7.3088\n",
            "Epoch 26/100\n",
            "13/13 [==============================] - 0s 3ms/step - loss: 7.4084 - mae: 7.4084\n",
            "Epoch 27/100\n",
            "13/13 [==============================] - 0s 7ms/step - loss: 7.1726 - mae: 7.1726\n",
            "Epoch 28/100\n",
            "13/13 [==============================] - 0s 9ms/step - loss: 7.2977 - mae: 7.2977\n",
            "Epoch 29/100\n",
            "13/13 [==============================] - 0s 6ms/step - loss: 6.9905 - mae: 6.9905\n",
            "Epoch 30/100\n",
            "13/13 [==============================] - 0s 8ms/step - loss: 7.0799 - mae: 7.0799\n",
            "Epoch 31/100\n",
            "13/13 [==============================] - 0s 6ms/step - loss: 7.2742 - mae: 7.2742\n",
            "Epoch 32/100\n",
            "13/13 [==============================] - 0s 6ms/step - loss: 7.0695 - mae: 7.0695\n",
            "Epoch 33/100\n",
            "13/13 [==============================] - 0s 4ms/step - loss: 7.3436 - mae: 7.3436\n",
            "Epoch 34/100\n",
            "13/13 [==============================] - 0s 3ms/step - loss: 6.9892 - mae: 6.9892\n",
            "Epoch 35/100\n",
            "13/13 [==============================] - 0s 3ms/step - loss: 6.9137 - mae: 6.9137\n",
            "Epoch 36/100\n",
            "13/13 [==============================] - 0s 6ms/step - loss: 6.6577 - mae: 6.6577\n",
            "Epoch 37/100\n",
            "13/13 [==============================] - 0s 4ms/step - loss: 7.2946 - mae: 7.2946\n",
            "Epoch 38/100\n",
            "13/13 [==============================] - 0s 6ms/step - loss: 6.6068 - mae: 6.6068\n",
            "Epoch 39/100\n",
            "13/13 [==============================] - 0s 4ms/step - loss: 7.0335 - mae: 7.0335\n",
            "Epoch 40/100\n",
            "13/13 [==============================] - 0s 4ms/step - loss: 6.9429 - mae: 6.9429\n",
            "Epoch 41/100\n",
            "13/13 [==============================] - 0s 4ms/step - loss: 6.9465 - mae: 6.9465\n",
            "Epoch 42/100\n",
            "13/13 [==============================] - 0s 11ms/step - loss: 6.8529 - mae: 6.8529\n",
            "Epoch 43/100\n",
            "13/13 [==============================] - 0s 6ms/step - loss: 6.8220 - mae: 6.8220\n",
            "Epoch 44/100\n",
            "13/13 [==============================] - 0s 4ms/step - loss: 6.3732 - mae: 6.3732\n",
            "Epoch 45/100\n",
            "13/13 [==============================] - 0s 6ms/step - loss: 7.1192 - mae: 7.1192\n",
            "Epoch 46/100\n",
            "13/13 [==============================] - 0s 4ms/step - loss: 6.7980 - mae: 6.7980\n",
            "Epoch 47/100\n",
            "13/13 [==============================] - 0s 3ms/step - loss: 6.4978 - mae: 6.4978\n",
            "Epoch 48/100\n",
            "13/13 [==============================] - 0s 3ms/step - loss: 6.5933 - mae: 6.5933\n",
            "Epoch 49/100\n",
            "13/13 [==============================] - 0s 3ms/step - loss: 6.7106 - mae: 6.7106\n",
            "Epoch 50/100\n",
            "13/13 [==============================] - 0s 3ms/step - loss: 6.5991 - mae: 6.5991\n",
            "Epoch 51/100\n",
            "13/13 [==============================] - 0s 3ms/step - loss: 6.4865 - mae: 6.4865\n",
            "Epoch 52/100\n",
            "13/13 [==============================] - 0s 3ms/step - loss: 7.0752 - mae: 7.0752\n",
            "Epoch 53/100\n",
            "13/13 [==============================] - 0s 3ms/step - loss: 6.3087 - mae: 6.3087\n",
            "Epoch 54/100\n",
            "13/13 [==============================] - 0s 3ms/step - loss: 6.3332 - mae: 6.3332\n",
            "Epoch 55/100\n",
            "13/13 [==============================] - 0s 3ms/step - loss: 6.8548 - mae: 6.8548\n",
            "Epoch 56/100\n",
            "13/13 [==============================] - 0s 6ms/step - loss: 6.6032 - mae: 6.6032\n",
            "Epoch 57/100\n",
            "13/13 [==============================] - 0s 8ms/step - loss: 6.9178 - mae: 6.9178\n",
            "Epoch 58/100\n",
            "13/13 [==============================] - 0s 4ms/step - loss: 6.8366 - mae: 6.8366\n",
            "Epoch 59/100\n",
            "13/13 [==============================] - 0s 4ms/step - loss: 7.1162 - mae: 7.1162\n",
            "Epoch 60/100\n",
            "13/13 [==============================] - 0s 3ms/step - loss: 6.3947 - mae: 6.3947\n",
            "Epoch 61/100\n",
            "13/13 [==============================] - 0s 5ms/step - loss: 6.5838 - mae: 6.5838\n",
            "Epoch 62/100\n",
            "13/13 [==============================] - 0s 7ms/step - loss: 7.3604 - mae: 7.3604\n",
            "Epoch 63/100\n",
            "13/13 [==============================] - 0s 3ms/step - loss: 6.6188 - mae: 6.6188\n",
            "Epoch 64/100\n",
            "13/13 [==============================] - 0s 3ms/step - loss: 6.5849 - mae: 6.5849\n",
            "Epoch 65/100\n",
            "13/13 [==============================] - 0s 5ms/step - loss: 6.7581 - mae: 6.7581\n",
            "Epoch 66/100\n",
            "13/13 [==============================] - 0s 3ms/step - loss: 6.6482 - mae: 6.6482\n",
            "Epoch 67/100\n",
            "13/13 [==============================] - 0s 3ms/step - loss: 6.1701 - mae: 6.1701\n",
            "Epoch 68/100\n",
            "13/13 [==============================] - 0s 4ms/step - loss: 6.4502 - mae: 6.4502\n",
            "Epoch 69/100\n",
            "13/13 [==============================] - 0s 4ms/step - loss: 6.9659 - mae: 6.9659\n",
            "Epoch 70/100\n",
            "13/13 [==============================] - 0s 3ms/step - loss: 7.0186 - mae: 7.0186\n",
            "Epoch 71/100\n",
            "13/13 [==============================] - 0s 3ms/step - loss: 7.0823 - mae: 7.0823\n",
            "Epoch 72/100\n",
            "13/13 [==============================] - 0s 4ms/step - loss: 6.3965 - mae: 6.3965\n",
            "Epoch 73/100\n",
            "13/13 [==============================] - 0s 4ms/step - loss: 6.5811 - mae: 6.5811\n",
            "Epoch 74/100\n",
            "13/13 [==============================] - 0s 3ms/step - loss: 6.3518 - mae: 6.3518\n",
            "Epoch 75/100\n",
            "13/13 [==============================] - 0s 3ms/step - loss: 6.6837 - mae: 6.6837\n",
            "Epoch 76/100\n",
            "13/13 [==============================] - 0s 3ms/step - loss: 7.0085 - mae: 7.0085\n",
            "Epoch 77/100\n",
            "13/13 [==============================] - 0s 4ms/step - loss: 6.6571 - mae: 6.6571\n",
            "Epoch 78/100\n",
            "13/13 [==============================] - 0s 3ms/step - loss: 6.7615 - mae: 6.7615\n",
            "Epoch 79/100\n",
            "13/13 [==============================] - 0s 3ms/step - loss: 6.6087 - mae: 6.6087\n",
            "Epoch 80/100\n",
            "13/13 [==============================] - 0s 3ms/step - loss: 6.5199 - mae: 6.5199\n",
            "Epoch 81/100\n",
            "13/13 [==============================] - 0s 3ms/step - loss: 6.7697 - mae: 6.7697\n",
            "Epoch 82/100\n",
            "13/13 [==============================] - 0s 3ms/step - loss: 6.1449 - mae: 6.1449\n",
            "Epoch 83/100\n",
            "13/13 [==============================] - 0s 3ms/step - loss: 6.6986 - mae: 6.6986\n",
            "Epoch 84/100\n",
            "13/13 [==============================] - 0s 3ms/step - loss: 6.7113 - mae: 6.7113\n",
            "Epoch 85/100\n",
            "13/13 [==============================] - 0s 4ms/step - loss: 6.4695 - mae: 6.4695\n",
            "Epoch 86/100\n",
            "13/13 [==============================] - 0s 3ms/step - loss: 6.6295 - mae: 6.6295\n",
            "Epoch 87/100\n",
            "13/13 [==============================] - 0s 7ms/step - loss: 6.7665 - mae: 6.7665\n",
            "Epoch 88/100\n",
            "13/13 [==============================] - 0s 3ms/step - loss: 6.3946 - mae: 6.3946\n",
            "Epoch 89/100\n",
            "13/13 [==============================] - 0s 3ms/step - loss: 6.6719 - mae: 6.6719\n",
            "Epoch 90/100\n",
            "13/13 [==============================] - 0s 6ms/step - loss: 6.6403 - mae: 6.6403\n",
            "Epoch 91/100\n",
            "13/13 [==============================] - 0s 4ms/step - loss: 6.6376 - mae: 6.6376\n",
            "Epoch 92/100\n",
            "13/13 [==============================] - 0s 6ms/step - loss: 6.1259 - mae: 6.1259\n",
            "Epoch 93/100\n",
            "13/13 [==============================] - 0s 4ms/step - loss: 6.6990 - mae: 6.6990\n",
            "Epoch 94/100\n",
            "13/13 [==============================] - 0s 6ms/step - loss: 6.2347 - mae: 6.2347\n",
            "Epoch 95/100\n",
            "13/13 [==============================] - 0s 4ms/step - loss: 6.8661 - mae: 6.8661\n",
            "Epoch 96/100\n",
            "13/13 [==============================] - 0s 4ms/step - loss: 6.7265 - mae: 6.7265\n",
            "Epoch 97/100\n",
            "13/13 [==============================] - 0s 7ms/step - loss: 6.5401 - mae: 6.5401\n",
            "Epoch 98/100\n",
            "13/13 [==============================] - 0s 6ms/step - loss: 7.0733 - mae: 7.0733\n",
            "Epoch 99/100\n",
            "13/13 [==============================] - 0s 7ms/step - loss: 6.0260 - mae: 6.0260\n",
            "Epoch 100/100\n",
            "13/13 [==============================] - 0s 4ms/step - loss: 6.1927 - mae: 6.1927\n",
            "4/4 [==============================] - 0s 13ms/step\n",
            "tf.Tensor(7.6767454, shape=(), dtype=float32)\n",
            "tf.Tensor(122.21457, shape=(), dtype=float32)\n"
          ]
        }
      ]
    },
    {
      "cell_type": "code",
      "source": [
        "mae_mse_results = mae_mse_results.append(pd.DataFrame([['model_5',maecalc(y_test,model_5_preds.reshape(len(model_5_preds))).numpy(), msecalc(y_test,model_5_preds.reshape(len(model_5_preds))).numpy()   ]],columns=['model','mae','mse']   ))"
      ],
      "metadata": {
        "id": "U4Buvy6NksNt"
      },
      "execution_count": 36,
      "outputs": []
    },
    {
      "cell_type": "code",
      "source": [
        "mae_mse_results"
      ],
      "metadata": {
        "colab": {
          "base_uri": "https://localhost:8080/",
          "height": 206
        },
        "id": "Ic_xxUqllBjz",
        "outputId": "a7e4ad89-ae84-4b09-e0dd-cd71c5ab6708"
      },
      "execution_count": 37,
      "outputs": [
        {
          "output_type": "execute_result",
          "data": {
            "text/plain": [
              "     model          mae           mse\n",
              "0  model_1  2279.211670  5.327774e+06\n",
              "1  model_2     6.670076  1.050641e+02\n",
              "2  model_3     7.676745  1.222146e+02\n",
              "0  model_4     7.676745  1.222146e+02\n",
              "0  model_5     7.676745  1.222146e+02"
            ],
            "text/html": [
              "\n",
              "  <div id=\"df-91938e86-8a16-42a8-869c-5a036f4d6d57\">\n",
              "    <div class=\"colab-df-container\">\n",
              "      <div>\n",
              "<style scoped>\n",
              "    .dataframe tbody tr th:only-of-type {\n",
              "        vertical-align: middle;\n",
              "    }\n",
              "\n",
              "    .dataframe tbody tr th {\n",
              "        vertical-align: top;\n",
              "    }\n",
              "\n",
              "    .dataframe thead th {\n",
              "        text-align: right;\n",
              "    }\n",
              "</style>\n",
              "<table border=\"1\" class=\"dataframe\">\n",
              "  <thead>\n",
              "    <tr style=\"text-align: right;\">\n",
              "      <th></th>\n",
              "      <th>model</th>\n",
              "      <th>mae</th>\n",
              "      <th>mse</th>\n",
              "    </tr>\n",
              "  </thead>\n",
              "  <tbody>\n",
              "    <tr>\n",
              "      <th>0</th>\n",
              "      <td>model_1</td>\n",
              "      <td>2279.211670</td>\n",
              "      <td>5.327774e+06</td>\n",
              "    </tr>\n",
              "    <tr>\n",
              "      <th>1</th>\n",
              "      <td>model_2</td>\n",
              "      <td>6.670076</td>\n",
              "      <td>1.050641e+02</td>\n",
              "    </tr>\n",
              "    <tr>\n",
              "      <th>2</th>\n",
              "      <td>model_3</td>\n",
              "      <td>7.676745</td>\n",
              "      <td>1.222146e+02</td>\n",
              "    </tr>\n",
              "    <tr>\n",
              "      <th>0</th>\n",
              "      <td>model_4</td>\n",
              "      <td>7.676745</td>\n",
              "      <td>1.222146e+02</td>\n",
              "    </tr>\n",
              "    <tr>\n",
              "      <th>0</th>\n",
              "      <td>model_5</td>\n",
              "      <td>7.676745</td>\n",
              "      <td>1.222146e+02</td>\n",
              "    </tr>\n",
              "  </tbody>\n",
              "</table>\n",
              "</div>\n",
              "      <button class=\"colab-df-convert\" onclick=\"convertToInteractive('df-91938e86-8a16-42a8-869c-5a036f4d6d57')\"\n",
              "              title=\"Convert this dataframe to an interactive table.\"\n",
              "              style=\"display:none;\">\n",
              "        \n",
              "  <svg xmlns=\"http://www.w3.org/2000/svg\" height=\"24px\"viewBox=\"0 0 24 24\"\n",
              "       width=\"24px\">\n",
              "    <path d=\"M0 0h24v24H0V0z\" fill=\"none\"/>\n",
              "    <path d=\"M18.56 5.44l.94 2.06.94-2.06 2.06-.94-2.06-.94-.94-2.06-.94 2.06-2.06.94zm-11 1L8.5 8.5l.94-2.06 2.06-.94-2.06-.94L8.5 2.5l-.94 2.06-2.06.94zm10 10l.94 2.06.94-2.06 2.06-.94-2.06-.94-.94-2.06-.94 2.06-2.06.94z\"/><path d=\"M17.41 7.96l-1.37-1.37c-.4-.4-.92-.59-1.43-.59-.52 0-1.04.2-1.43.59L10.3 9.45l-7.72 7.72c-.78.78-.78 2.05 0 2.83L4 21.41c.39.39.9.59 1.41.59.51 0 1.02-.2 1.41-.59l7.78-7.78 2.81-2.81c.8-.78.8-2.07 0-2.86zM5.41 20L4 18.59l7.72-7.72 1.47 1.35L5.41 20z\"/>\n",
              "  </svg>\n",
              "      </button>\n",
              "      \n",
              "  <style>\n",
              "    .colab-df-container {\n",
              "      display:flex;\n",
              "      flex-wrap:wrap;\n",
              "      gap: 12px;\n",
              "    }\n",
              "\n",
              "    .colab-df-convert {\n",
              "      background-color: #E8F0FE;\n",
              "      border: none;\n",
              "      border-radius: 50%;\n",
              "      cursor: pointer;\n",
              "      display: none;\n",
              "      fill: #1967D2;\n",
              "      height: 32px;\n",
              "      padding: 0 0 0 0;\n",
              "      width: 32px;\n",
              "    }\n",
              "\n",
              "    .colab-df-convert:hover {\n",
              "      background-color: #E2EBFA;\n",
              "      box-shadow: 0px 1px 2px rgba(60, 64, 67, 0.3), 0px 1px 3px 1px rgba(60, 64, 67, 0.15);\n",
              "      fill: #174EA6;\n",
              "    }\n",
              "\n",
              "    [theme=dark] .colab-df-convert {\n",
              "      background-color: #3B4455;\n",
              "      fill: #D2E3FC;\n",
              "    }\n",
              "\n",
              "    [theme=dark] .colab-df-convert:hover {\n",
              "      background-color: #434B5C;\n",
              "      box-shadow: 0px 1px 3px 1px rgba(0, 0, 0, 0.15);\n",
              "      filter: drop-shadow(0px 1px 2px rgba(0, 0, 0, 0.3));\n",
              "      fill: #FFFFFF;\n",
              "    }\n",
              "  </style>\n",
              "\n",
              "      <script>\n",
              "        const buttonEl =\n",
              "          document.querySelector('#df-91938e86-8a16-42a8-869c-5a036f4d6d57 button.colab-df-convert');\n",
              "        buttonEl.style.display =\n",
              "          google.colab.kernel.accessAllowed ? 'block' : 'none';\n",
              "\n",
              "        async function convertToInteractive(key) {\n",
              "          const element = document.querySelector('#df-91938e86-8a16-42a8-869c-5a036f4d6d57');\n",
              "          const dataTable =\n",
              "            await google.colab.kernel.invokeFunction('convertToInteractive',\n",
              "                                                     [key], {});\n",
              "          if (!dataTable) return;\n",
              "\n",
              "          const docLinkHtml = 'Like what you see? Visit the ' +\n",
              "            '<a target=\"_blank\" href=https://colab.research.google.com/notebooks/data_table.ipynb>data table notebook</a>'\n",
              "            + ' to learn more about interactive tables.';\n",
              "          element.innerHTML = '';\n",
              "          dataTable['output_type'] = 'display_data';\n",
              "          await google.colab.output.renderOutput(dataTable, element);\n",
              "          const docLink = document.createElement('div');\n",
              "          docLink.innerHTML = docLinkHtml;\n",
              "          element.appendChild(docLink);\n",
              "        }\n",
              "      </script>\n",
              "    </div>\n",
              "  </div>\n",
              "  "
            ]
          },
          "metadata": {},
          "execution_count": 37
        }
      ]
    },
    {
      "cell_type": "code",
      "source": [
        "fig,ax = plt.subplots(len(mae_mse_results),1,figsize=(12,10))\n",
        "i = 1\n",
        "for axes in ax:\n",
        "  axes.plot(y_test)\n",
        "  axes.plot(eval(f'model_{i}_preds'))\n",
        "  axes.set_xlabel('Test Cases')\n",
        "  axes.set_ylabel(f'model_{i}_preds',rotation=0,loc='center')\n",
        "  i += 1"
      ],
      "metadata": {
        "colab": {
          "base_uri": "https://localhost:8080/",
          "height": 606
        },
        "id": "05fQL_iFlEBA",
        "outputId": "68375f36-68bd-4e2d-de3e-ef6799d2281c"
      },
      "execution_count": 38,
      "outputs": [
        {
          "output_type": "display_data",
          "data": {
            "text/plain": [
              "<Figure size 864x720 with 5 Axes>"
            ],
            "image/png": "[encoded data removed]"
          },
          "metadata": {
            "needs_background": "light"
          }
        }
      ]
    },
    {
      "cell_type": "code",
      "source": [
        "model_5.summary()"
      ],
      "metadata": {
        "colab": {
          "base_uri": "https://localhost:8080/",
          "height": 0
        },
        "id": "0BArlwbtlgvq",
        "outputId": "075f6bb1-70ce-45b4-93ba-46374f758e6e"
      },
      "execution_count": 39,
      "outputs": [
        {
          "output_type": "stream",
          "name": "stdout",
          "text": [
            "Model: \"sequential_4\"\n",
            "_________________________________________________________________\n",
            " Layer (type)                Output Shape              Param #   \n",
            "=================================================================\n",
            " dense_9 (Dense)             (None, 5)                 70        \n",
            "                                                                 \n",
            " dense_10 (Dense)            (None, 10)                60        \n",
            "                                                                 \n",
            " dense_11 (Dense)            (None, 1)                 11        \n",
            "                                                                 \n",
            "=================================================================\n",
            "Total params: 141\n",
            "Trainable params: 141\n",
            "Non-trainable params: 0\n",
            "_________________________________________________________________\n"
          ]
        }
      ]
    },
    {
      "cell_type": "code",
      "source": [
        "plot_model(model_5)"
      ],
      "metadata": {
        "colab": {
          "base_uri": "https://localhost:8080/",
          "height": 369
        },
        "id": "2WlGh5N4oYSv",
        "outputId": "e662cef3-f263-4fcd-f3f7-0ac29f0e3402"
      },
      "execution_count": 40,
      "outputs": [
        {
          "output_type": "execute_result",
          "data": {
            "image/png": "[encoded data removed]",
            "text/plain": [
              "<IPython.core.display.Image object>"
            ]
          },
          "metadata": {},
          "execution_count": 40
        }
      ]
    },
    {
      "cell_type": "code",
      "source": [
        "plot_model(model_2)"
      ],
      "metadata": {
        "colab": {
          "base_uri": "https://localhost:8080/",
          "height": 272
        },
        "id": "0HWbBTV0oabf",
        "outputId": "eb85bfb3-d93c-49cb-9ddf-ed51d3289da0"
      },
      "execution_count": 41,
      "outputs": [
        {
          "output_type": "execute_result",
          "data": {
            "image/png": "[encoded data removed]",
            "text/plain": [
              "<IPython.core.display.Image object>"
            ]
          },
          "metadata": {},
          "execution_count": 41
        }
      ]
    },
    {
      "cell_type": "code",
      "source": [
        "model_2.save(\"best_model_HDF5.h5\")"
      ],
      "metadata": {
        "id": "1VmbvsMup1Pn"
      },
      "execution_count": 42,
      "outputs": []
    },
    {
      "cell_type": "code",
      "source": [
        "loaded_save_model = tf.keras.models.load_model('best_model_HDF5.h5')\n",
        "loaded_save_model.summary()"
      ],
      "metadata": {
        "colab": {
          "base_uri": "https://localhost:8080/",
          "height": 0
        },
        "id": "RVUzZ5h8qBqB",
        "outputId": "5206acce-7a7a-4ae1-be2b-3e5c3da0fbf4"
      },
      "execution_count": 43,
      "outputs": [
        {
          "output_type": "stream",
          "name": "stdout",
          "text": [
            "Model: \"sequential_1\"\n",
            "_________________________________________________________________\n",
            " Layer (type)                Output Shape              Param #   \n",
            "=================================================================\n",
            " dense_1 (Dense)             (None, 5)                 70        \n",
            "                                                                 \n",
            " dense_2 (Dense)             (None, 1)                 6         \n",
            "                                                                 \n",
            "=================================================================\n",
            "Total params: 76\n",
            "Trainable params: 76\n",
            "Non-trainable params: 0\n",
            "_________________________________________________________________\n"
          ]
        }
      ]
    },
    {
      "cell_type": "code",
      "source": [
        "len(data),len(data[0])"
      ],
      "metadata": {
        "colab": {
          "base_uri": "https://localhost:8080/",
          "height": 0
        },
        "id": "p14lW2k6qdF4",
        "outputId": "c6032aa3-1bca-450c-93c8-7be34d29c25e"
      },
      "execution_count": 44,
      "outputs": [
        {
          "output_type": "execute_result",
          "data": {
            "text/plain": [
              "(506, 13)"
            ]
          },
          "metadata": {},
          "execution_count": 44
        }
      ]
    },
    {
      "cell_type": "code",
      "source": [
        "tf.random.set_seed(1)\n",
        "\n",
        "model_2 = tf.keras.Sequential([\n",
        "    tf.keras.layers.Dense(5),\n",
        "    tf.keras.layers.Dense(1)\n",
        "])\n",
        "\n",
        "model_2.compile(loss=tf.keras.losses.mae,\n",
        "              optimizer=tf.keras.optimizers.SGD(learning_rate=1e-3),\n",
        "              metrics=['mae'])\n",
        "\n",
        "history_model_2 = model_2.fit(X_train,y_train,epochs=10,verbose=0)\n",
        "\n",
        "model_2_preds = model_2.predict(X_test)\n",
        "\n",
        "print(maecalc(y_test,model_2_preds.squeeze()))\n",
        "print(msecalc(y_test,model_2_preds.squeeze()))"
      ],
      "metadata": {
        "colab": {
          "base_uri": "https://localhost:8080/",
          "height": 0
        },
        "id": "dCsIba5Cqnbt",
        "outputId": "dcf71267-a411-465d-c041-d703c6321a7c"
      },
      "execution_count": 45,
      "outputs": [
        {
          "output_type": "stream",
          "name": "stdout",
          "text": [
            "4/4 [==============================] - 0s 3ms/step\n",
            "tf.Tensor(6.657832, shape=(), dtype=float32)\n",
            "tf.Tensor(101.480705, shape=(), dtype=float32)\n"
          ]
        }
      ]
    },
    {
      "cell_type": "code",
      "source": [
        "tf.random.set_seed(1)\n",
        "\n",
        "model_2 = tf.keras.Sequential([\n",
        "    tf.keras.layers.Dense(5),\n",
        "    tf.keras.layers.Dense(1)\n",
        "])\n",
        "\n",
        "model_2.compile(loss=tf.keras.losses.mae,\n",
        "              optimizer=tf.keras.optimizers.SGD(learning_rate=1e-3),\n",
        "              metrics=['mae'])\n",
        "\n",
        "history_model_2 = model_2.fit(X_train,y_train,epochs=100,verbose=0)\n",
        "\n",
        "model_2_preds = model_2.predict(X_test)\n",
        "\n",
        "print(maecalc(y_test,model_2_preds.squeeze()))\n",
        "print(msecalc(y_test,model_2_preds.squeeze()))"
      ],
      "metadata": {
        "colab": {
          "base_uri": "https://localhost:8080/",
          "height": 0
        },
        "id": "YUEwSMEaq-Tz",
        "outputId": "4cc7bbeb-d531-4209-f5b9-b44fedb61d68"
      },
      "execution_count": 46,
      "outputs": [
        {
          "output_type": "stream",
          "name": "stdout",
          "text": [
            "4/4 [==============================] - 0s 3ms/step\n",
            "tf.Tensor(8.094555, shape=(), dtype=float32)\n",
            "tf.Tensor(97.52008, shape=(), dtype=float32)\n"
          ]
        }
      ]
    },
    {
      "cell_type": "code",
      "source": [
        "history_model_2.history"
      ],
      "metadata": {
        "colab": {
          "base_uri": "https://localhost:8080/",
          "height": 0
        },
        "id": "yUX2DixYrxfC",
        "outputId": "2c29e16e-79a2-4a47-f32c-9d2f09f4b9ac"
      },
      "execution_count": 47,
      "outputs": [
        {
          "output_type": "execute_result",
          "data": {
            "text/plain": [
              "{'loss': [85.99523162841797,\n",
              "  8.908710479736328,\n",
              "  9.013162612915039,\n",
              "  9.446736335754395,\n",
              "  9.349034309387207,\n",
              "  9.00407600402832,\n",
              "  7.981431007385254,\n",
              "  8.651546478271484,\n",
              "  8.130616188049316,\n",
              "  9.967076301574707,\n",
              "  9.223798751831055,\n",
              "  8.007865905761719,\n",
              "  8.283690452575684,\n",
              "  9.439334869384766,\n",
              "  8.96688461303711,\n",
              "  9.312118530273438,\n",
              "  8.235663414001465,\n",
              "  8.362330436706543,\n",
              "  8.449508666992188,\n",
              "  10.30873966217041,\n",
              "  8.954534530639648,\n",
              "  8.921126365661621,\n",
              "  9.149909973144531,\n",
              "  7.914449214935303,\n",
              "  8.553132057189941,\n",
              "  7.671316623687744,\n",
              "  7.904815196990967,\n",
              "  8.390554428100586,\n",
              "  9.060561180114746,\n",
              "  8.511375427246094,\n",
              "  8.454925537109375,\n",
              "  9.682496070861816,\n",
              "  8.565254211425781,\n",
              "  8.833161354064941,\n",
              "  8.283638954162598,\n",
              "  8.542680740356445,\n",
              "  9.362868309020996,\n",
              "  8.947253227233887,\n",
              "  7.122748851776123,\n",
              "  9.717277526855469,\n",
              "  9.102133750915527,\n",
              "  8.108597755432129,\n",
              "  8.090981483459473,\n",
              "  9.070755958557129,\n",
              "  8.521261215209961,\n",
              "  9.237760543823242,\n",
              "  8.6002779006958,\n",
              "  9.284536361694336,\n",
              "  7.269554615020752,\n",
              "  7.7329535484313965,\n",
              "  8.816243171691895,\n",
              "  8.016973495483398,\n",
              "  8.986263275146484,\n",
              "  9.159486770629883,\n",
              "  9.360180854797363,\n",
              "  8.953439712524414,\n",
              "  7.8695969581604,\n",
              "  9.486586570739746,\n",
              "  8.508769035339355,\n",
              "  8.216552734375,\n",
              "  8.211226463317871,\n",
              "  9.325017929077148,\n",
              "  8.122320175170898,\n",
              "  9.013507843017578,\n",
              "  8.839138984680176,\n",
              "  8.875783920288086,\n",
              "  9.93533992767334,\n",
              "  7.839073181152344,\n",
              "  8.941904067993164,\n",
              "  8.856514930725098,\n",
              "  8.070762634277344,\n",
              "  8.940810203552246,\n",
              "  8.354004859924316,\n",
              "  7.739506244659424,\n",
              "  8.403658866882324,\n",
              "  9.11059284210205,\n",
              "  8.894487380981445,\n",
              "  9.09422779083252,\n",
              "  8.945960998535156,\n",
              "  7.924370765686035,\n",
              "  8.067047119140625,\n",
              "  8.20811939239502,\n",
              "  9.636731147766113,\n",
              "  8.916170120239258,\n",
              "  6.621150016784668,\n",
              "  8.803787231445312,\n",
              "  9.679533004760742,\n",
              "  7.66041898727417,\n",
              "  9.260030746459961,\n",
              "  8.896240234375,\n",
              "  8.903298377990723,\n",
              "  8.790401458740234,\n",
              "  9.347450256347656,\n",
              "  8.588099479675293,\n",
              "  9.901226043701172,\n",
              "  8.512263298034668,\n",
              "  8.495949745178223,\n",
              "  8.878801345825195,\n",
              "  8.272364616394043,\n",
              "  8.079976081848145],\n",
              " 'mae': [85.99523162841797,\n",
              "  8.908710479736328,\n",
              "  9.013162612915039,\n",
              "  9.446736335754395,\n",
              "  9.349034309387207,\n",
              "  9.00407600402832,\n",
              "  7.981431007385254,\n",
              "  8.651546478271484,\n",
              "  8.130616188049316,\n",
              "  9.967076301574707,\n",
              "  9.223798751831055,\n",
              "  8.007865905761719,\n",
              "  8.283690452575684,\n",
              "  9.439334869384766,\n",
              "  8.96688461303711,\n",
              "  9.312118530273438,\n",
              "  8.235663414001465,\n",
              "  8.362330436706543,\n",
              "  8.449508666992188,\n",
              "  10.30873966217041,\n",
              "  8.954534530639648,\n",
              "  8.921126365661621,\n",
              "  9.149909973144531,\n",
              "  7.914449214935303,\n",
              "  8.553132057189941,\n",
              "  7.671316623687744,\n",
              "  7.904815196990967,\n",
              "  8.390554428100586,\n",
              "  9.060561180114746,\n",
              "  8.511375427246094,\n",
              "  8.454925537109375,\n",
              "  9.682496070861816,\n",
              "  8.565254211425781,\n",
              "  8.833161354064941,\n",
              "  8.283638954162598,\n",
              "  8.542680740356445,\n",
              "  9.362868309020996,\n",
              "  8.947253227233887,\n",
              "  7.122748851776123,\n",
              "  9.717277526855469,\n",
              "  9.102133750915527,\n",
              "  8.108597755432129,\n",
              "  8.090981483459473,\n",
              "  9.070755958557129,\n",
              "  8.521261215209961,\n",
              "  9.237760543823242,\n",
              "  8.6002779006958,\n",
              "  9.284536361694336,\n",
              "  7.269554615020752,\n",
              "  7.7329535484313965,\n",
              "  8.816243171691895,\n",
              "  8.016973495483398,\n",
              "  8.986263275146484,\n",
              "  9.159486770629883,\n",
              "  9.360180854797363,\n",
              "  8.953439712524414,\n",
              "  7.8695969581604,\n",
              "  9.486586570739746,\n",
              "  8.508769035339355,\n",
              "  8.216552734375,\n",
              "  8.211226463317871,\n",
              "  9.325017929077148,\n",
              "  8.122320175170898,\n",
              "  9.013507843017578,\n",
              "  8.839138984680176,\n",
              "  8.875783920288086,\n",
              "  9.93533992767334,\n",
              "  7.839073181152344,\n",
              "  8.941904067993164,\n",
              "  8.856514930725098,\n",
              "  8.070762634277344,\n",
              "  8.940810203552246,\n",
              "  8.354004859924316,\n",
              "  7.739506244659424,\n",
              "  8.403658866882324,\n",
              "  9.11059284210205,\n",
              "  8.894487380981445,\n",
              "  9.09422779083252,\n",
              "  8.945960998535156,\n",
              "  7.924370765686035,\n",
              "  8.067047119140625,\n",
              "  8.20811939239502,\n",
              "  9.636731147766113,\n",
              "  8.916170120239258,\n",
              "  6.621150016784668,\n",
              "  8.803787231445312,\n",
              "  9.679533004760742,\n",
              "  7.66041898727417,\n",
              "  9.260030746459961,\n",
              "  8.896240234375,\n",
              "  8.903298377990723,\n",
              "  8.790401458740234,\n",
              "  9.347450256347656,\n",
              "  8.588099479675293,\n",
              "  9.901226043701172,\n",
              "  8.512263298034668,\n",
              "  8.495949745178223,\n",
              "  8.878801345825195,\n",
              "  8.272364616394043,\n",
              "  8.079976081848145]}"
            ]
          },
          "metadata": {},
          "execution_count": 47
        }
      ]
    },
    {
      "cell_type": "code",
      "source": [
        "fig,ax = plt.subplots(1,2,figsize=(20,10))\n",
        "\n",
        "ax[0].plot(history_model_2.history['loss'])\n",
        "ax[0].set_xlabel('Epoch')\n",
        "ax[0].set_ylabel('Loss')\n",
        "\n",
        "ax[1].plot(history_model_2.history['mae'])\n",
        "ax[1].set_xlabel('Epoch')\n",
        "ax[1].set_ylabel('Mae');"
      ],
      "metadata": {
        "colab": {
          "base_uri": "https://localhost:8080/",
          "height": 603
        },
        "id": "5dTiD0p-rKWT",
        "outputId": "e27f7abe-c540-4754-be21-2b9e5bb2f595"
      },
      "execution_count": 48,
      "outputs": [
        {
          "output_type": "display_data",
          "data": {
            "text/plain": [
              "<Figure size 1440x720 with 2 Axes>"
            ],
            "image/png": "[encoded data removed]"
          },
          "metadata": {
            "needs_background": "light"
          }
        }
      ]
    },
    {
      "cell_type": "code",
      "source": [
        "test = [[1,2,3],\n",
        "        [4,5,6]]\n",
        "import sklearn\n",
        "scaler = sklearn.preprocessing.StandardScaler().fit(test)\n",
        "scaler.mean_, scaler.scale_,scaler.n_features_in_,scaler.n_samples_seen_,scaler.get_feature_names_out"
      ],
      "metadata": {
        "colab": {
          "base_uri": "https://localhost:8080/",
          "height": 0
        },
        "id": "WkBRudV3uXAW",
        "outputId": "f82c51a3-8673-49a3-a6bf-94dfe5ac87ef"
      },
      "execution_count": 49,
      "outputs": [
        {
          "output_type": "execute_result",
          "data": {
            "text/plain": [
              "(array([2.5, 3.5, 4.5]),\n",
              " array([1.5, 1.5, 1.5]),\n",
              " 3,\n",
              " 2,\n",
              " <bound method OneToOneFeatureMixin.get_feature_names_out of StandardScaler()>)"
            ]
          },
          "metadata": {},
          "execution_count": 49
        }
      ]
    },
    {
      "cell_type": "markdown",
      "source": [
        "# Normalizing data before training"
      ],
      "metadata": {
        "id": "3pnJlrkmuXwr"
      }
    },
    {
      "cell_type": "code",
      "source": [
        "column_names = ['CRIM','ZN','INDUS','CHAS','NOX','RM','AGE','DIS','RAD','TAX','PTRATIO','B','LSTAT']"
      ],
      "metadata": {
        "id": "nAj0VnjYpZsO"
      },
      "execution_count": 50,
      "outputs": []
    },
    {
      "cell_type": "code",
      "source": [
        "training_data = pd.DataFrame(data,columns=column_names)"
      ],
      "metadata": {
        "id": "V8mV1-Jop3ac"
      },
      "execution_count": 51,
      "outputs": []
    },
    {
      "cell_type": "code",
      "source": [
        "training_data.head()"
      ],
      "metadata": {
        "colab": {
          "base_uri": "https://localhost:8080/",
          "height": 206
        },
        "id": "V2xRKP08qabD",
        "outputId": "3256c9c8-63ef-4e22-a621-38ab0f9e2cef"
      },
      "execution_count": 52,
      "outputs": [
        {
          "output_type": "execute_result",
          "data": {
            "text/plain": [
              "      CRIM    ZN  INDUS  CHAS    NOX     RM   AGE     DIS  RAD    TAX  \\\n",
              "0  0.00632  18.0   2.31   0.0  0.538  6.575  65.2  4.0900  1.0  296.0   \n",
              "1  0.02731   0.0   7.07   0.0  0.469  6.421  78.9  4.9671  2.0  242.0   \n",
              "2  0.02729   0.0   7.07   0.0  0.469  7.185  61.1  4.9671  2.0  242.0   \n",
              "3  0.03237   0.0   2.18   0.0  0.458  6.998  45.8  6.0622  3.0  222.0   \n",
              "4  0.06905   0.0   2.18   0.0  0.458  7.147  54.2  6.0622  3.0  222.0   \n",
              "\n",
              "   PTRATIO       B  LSTAT  \n",
              "0     15.3  396.90   4.98  \n",
              "1     17.8  396.90   9.14  \n",
              "2     17.8  392.83   4.03  \n",
              "3     18.7  394.63   2.94  \n",
              "4     18.7  396.90   5.33  "
            ],
            "text/html": [
              "\n",
              "  <div id=\"df-f373ea9b-37e2-4674-9131-5a1f8305e2e1\">\n",
              "    <div class=\"colab-df-container\">\n",
              "      <div>\n",
              "<style scoped>\n",
              "    .dataframe tbody tr th:only-of-type {\n",
              "        vertical-align: middle;\n",
              "    }\n",
              "\n",
              "    .dataframe tbody tr th {\n",
              "        vertical-align: top;\n",
              "    }\n",
              "\n",
              "    .dataframe thead th {\n",
              "        text-align: right;\n",
              "    }\n",
              "</style>\n",
              "<table border=\"1\" class=\"dataframe\">\n",
              "  <thead>\n",
              "    <tr style=\"text-align: right;\">\n",
              "      <th></th>\n",
              "      <th>CRIM</th>\n",
              "      <th>ZN</th>\n",
              "      <th>INDUS</th>\n",
              "      <th>CHAS</th>\n",
              "      <th>NOX</th>\n",
              "      <th>RM</th>\n",
              "      <th>AGE</th>\n",
              "      <th>DIS</th>\n",
              "      <th>RAD</th>\n",
              "      <th>TAX</th>\n",
              "      <th>PTRATIO</th>\n",
              "      <th>B</th>\n",
              "      <th>LSTAT</th>\n",
              "    </tr>\n",
              "  </thead>\n",
              "  <tbody>\n",
              "    <tr>\n",
              "      <th>0</th>\n",
              "      <td>0.00632</td>\n",
              "      <td>18.0</td>\n",
              "      <td>2.31</td>\n",
              "      <td>0.0</td>\n",
              "      <td>0.538</td>\n",
              "      <td>6.575</td>\n",
              "      <td>65.2</td>\n",
              "      <td>4.0900</td>\n",
              "      <td>1.0</td>\n",
              "      <td>296.0</td>\n",
              "      <td>15.3</td>\n",
              "      <td>396.90</td>\n",
              "      <td>4.98</td>\n",
              "    </tr>\n",
              "    <tr>\n",
              "      <th>1</th>\n",
              "      <td>0.02731</td>\n",
              "      <td>0.0</td>\n",
              "      <td>7.07</td>\n",
              "      <td>0.0</td>\n",
              "      <td>0.469</td>\n",
              "      <td>6.421</td>\n",
              "      <td>78.9</td>\n",
              "      <td>4.9671</td>\n",
              "      <td>2.0</td>\n",
              "      <td>242.0</td>\n",
              "      <td>17.8</td>\n",
              "      <td>396.90</td>\n",
              "      <td>9.14</td>\n",
              "    </tr>\n",
              "    <tr>\n",
              "      <th>2</th>\n",
              "      <td>0.02729</td>\n",
              "      <td>0.0</td>\n",
              "      <td>7.07</td>\n",
              "      <td>0.0</td>\n",
              "      <td>0.469</td>\n",
              "      <td>7.185</td>\n",
              "      <td>61.1</td>\n",
              "      <td>4.9671</td>\n",
              "      <td>2.0</td>\n",
              "      <td>242.0</td>\n",
              "      <td>17.8</td>\n",
              "      <td>392.83</td>\n",
              "      <td>4.03</td>\n",
              "    </tr>\n",
              "    <tr>\n",
              "      <th>3</th>\n",
              "      <td>0.03237</td>\n",
              "      <td>0.0</td>\n",
              "      <td>2.18</td>\n",
              "      <td>0.0</td>\n",
              "      <td>0.458</td>\n",
              "      <td>6.998</td>\n",
              "      <td>45.8</td>\n",
              "      <td>6.0622</td>\n",
              "      <td>3.0</td>\n",
              "      <td>222.0</td>\n",
              "      <td>18.7</td>\n",
              "      <td>394.63</td>\n",
              "      <td>2.94</td>\n",
              "    </tr>\n",
              "    <tr>\n",
              "      <th>4</th>\n",
              "      <td>0.06905</td>\n",
              "      <td>0.0</td>\n",
              "      <td>2.18</td>\n",
              "      <td>0.0</td>\n",
              "      <td>0.458</td>\n",
              "      <td>7.147</td>\n",
              "      <td>54.2</td>\n",
              "      <td>6.0622</td>\n",
              "      <td>3.0</td>\n",
              "      <td>222.0</td>\n",
              "      <td>18.7</td>\n",
              "      <td>396.90</td>\n",
              "      <td>5.33</td>\n",
              "    </tr>\n",
              "  </tbody>\n",
              "</table>\n",
              "</div>\n",
              "      <button class=\"colab-df-convert\" onclick=\"convertToInteractive('df-f373ea9b-37e2-4674-9131-5a1f8305e2e1')\"\n",
              "              title=\"Convert this dataframe to an interactive table.\"\n",
              "              style=\"display:none;\">\n",
              "        \n",
              "  <svg xmlns=\"http://www.w3.org/2000/svg\" height=\"24px\"viewBox=\"0 0 24 24\"\n",
              "       width=\"24px\">\n",
              "    <path d=\"M0 0h24v24H0V0z\" fill=\"none\"/>\n",
              "    <path d=\"M18.56 5.44l.94 2.06.94-2.06 2.06-.94-2.06-.94-.94-2.06-.94 2.06-2.06.94zm-11 1L8.5 8.5l.94-2.06 2.06-.94-2.06-.94L8.5 2.5l-.94 2.06-2.06.94zm10 10l.94 2.06.94-2.06 2.06-.94-2.06-.94-.94-2.06-.94 2.06-2.06.94z\"/><path d=\"M17.41 7.96l-1.37-1.37c-.4-.4-.92-.59-1.43-.59-.52 0-1.04.2-1.43.59L10.3 9.45l-7.72 7.72c-.78.78-.78 2.05 0 2.83L4 21.41c.39.39.9.59 1.41.59.51 0 1.02-.2 1.41-.59l7.78-7.78 2.81-2.81c.8-.78.8-2.07 0-2.86zM5.41 20L4 18.59l7.72-7.72 1.47 1.35L5.41 20z\"/>\n",
              "  </svg>\n",
              "      </button>\n",
              "      \n",
              "  <style>\n",
              "    .colab-df-container {\n",
              "      display:flex;\n",
              "      flex-wrap:wrap;\n",
              "      gap: 12px;\n",
              "    }\n",
              "\n",
              "    .colab-df-convert {\n",
              "      background-color: #E8F0FE;\n",
              "      border: none;\n",
              "      border-radius: 50%;\n",
              "      cursor: pointer;\n",
              "      display: none;\n",
              "      fill: #1967D2;\n",
              "      height: 32px;\n",
              "      padding: 0 0 0 0;\n",
              "      width: 32px;\n",
              "    }\n",
              "\n",
              "    .colab-df-convert:hover {\n",
              "      background-color: #E2EBFA;\n",
              "      box-shadow: 0px 1px 2px rgba(60, 64, 67, 0.3), 0px 1px 3px 1px rgba(60, 64, 67, 0.15);\n",
              "      fill: #174EA6;\n",
              "    }\n",
              "\n",
              "    [theme=dark] .colab-df-convert {\n",
              "      background-color: #3B4455;\n",
              "      fill: #D2E3FC;\n",
              "    }\n",
              "\n",
              "    [theme=dark] .colab-df-convert:hover {\n",
              "      background-color: #434B5C;\n",
              "      box-shadow: 0px 1px 3px 1px rgba(0, 0, 0, 0.15);\n",
              "      filter: drop-shadow(0px 1px 2px rgba(0, 0, 0, 0.3));\n",
              "      fill: #FFFFFF;\n",
              "    }\n",
              "  </style>\n",
              "\n",
              "      <script>\n",
              "        const buttonEl =\n",
              "          document.querySelector('#df-f373ea9b-37e2-4674-9131-5a1f8305e2e1 button.colab-df-convert');\n",
              "        buttonEl.style.display =\n",
              "          google.colab.kernel.accessAllowed ? 'block' : 'none';\n",
              "\n",
              "        async function convertToInteractive(key) {\n",
              "          const element = document.querySelector('#df-f373ea9b-37e2-4674-9131-5a1f8305e2e1');\n",
              "          const dataTable =\n",
              "            await google.colab.kernel.invokeFunction('convertToInteractive',\n",
              "                                                     [key], {});\n",
              "          if (!dataTable) return;\n",
              "\n",
              "          const docLinkHtml = 'Like what you see? Visit the ' +\n",
              "            '<a target=\"_blank\" href=https://colab.research.google.com/notebooks/data_table.ipynb>data table notebook</a>'\n",
              "            + ' to learn more about interactive tables.';\n",
              "          element.innerHTML = '';\n",
              "          dataTable['output_type'] = 'display_data';\n",
              "          await google.colab.output.renderOutput(dataTable, element);\n",
              "          const docLink = document.createElement('div');\n",
              "          docLink.innerHTML = docLinkHtml;\n",
              "          element.appendChild(docLink);\n",
              "        }\n",
              "      </script>\n",
              "    </div>\n",
              "  </div>\n",
              "  "
            ]
          },
          "metadata": {},
          "execution_count": 52
        }
      ]
    },
    {
      "cell_type": "code",
      "source": [
        "from sklearn.compose import make_column_transformer\n",
        "from sklearn.preprocessing import MinMaxScaler\n",
        "\n",
        "ct = make_column_transformer(\n",
        "    (MinMaxScaler(),column_names)\n",
        ")\n",
        "\n",
        "X_train,X_test,y_train,y_test = train_test_split(training_data,target,test_size=0.2)\n",
        "ct.fit(X_train)\n",
        "X_train_normal = ct.transform(X_train)\n",
        "X_test_normal = ct.transform(X_test)"
      ],
      "metadata": {
        "id": "58wt8UiKwFJF"
      },
      "execution_count": 53,
      "outputs": []
    },
    {
      "cell_type": "code",
      "source": [
        "X_train.head()"
      ],
      "metadata": {
        "colab": {
          "base_uri": "https://localhost:8080/",
          "height": 206
        },
        "id": "AwbHCMnjnaak",
        "outputId": "c9dc8c10-b9c6-4507-ab35-596206964741"
      },
      "execution_count": 54,
      "outputs": [
        {
          "output_type": "execute_result",
          "data": {
            "text/plain": [
              "        CRIM    ZN  INDUS  CHAS    NOX     RM   AGE     DIS   RAD    TAX  \\\n",
              "80   0.04113  25.0   4.86   0.0  0.426  6.727  33.5  5.4007   4.0  281.0   \n",
              "339  0.05497   0.0   5.19   0.0  0.515  5.985  45.4  4.8122   5.0  224.0   \n",
              "178  0.06642   0.0   4.05   0.0  0.510  6.860  74.4  2.9153   5.0  296.0   \n",
              "482  5.73116   0.0  18.10   0.0  0.532  7.061  77.0  3.4106  24.0  666.0   \n",
              "364  3.47428   0.0  18.10   1.0  0.718  8.780  82.9  1.9047  24.0  666.0   \n",
              "\n",
              "     PTRATIO       B  LSTAT  \n",
              "80      19.0  396.90   5.29  \n",
              "339     20.2  396.90   9.74  \n",
              "178     16.6  391.27   6.92  \n",
              "482     20.2  395.28   7.01  \n",
              "364     20.2  354.55   5.29  "
            ],
            "text/html": [
              "\n",
              "  <div id=\"df-3aed01ac-354b-42ed-af5e-f2a8e9ba97a5\">\n",
              "    <div class=\"colab-df-container\">\n",
              "      <div>\n",
              "<style scoped>\n",
              "    .dataframe tbody tr th:only-of-type {\n",
              "        vertical-align: middle;\n",
              "    }\n",
              "\n",
              "    .dataframe tbody tr th {\n",
              "        vertical-align: top;\n",
              "    }\n",
              "\n",
              "    .dataframe thead th {\n",
              "        text-align: right;\n",
              "    }\n",
              "</style>\n",
              "<table border=\"1\" class=\"dataframe\">\n",
              "  <thead>\n",
              "    <tr style=\"text-align: right;\">\n",
              "      <th></th>\n",
              "      <th>CRIM</th>\n",
              "      <th>ZN</th>\n",
              "      <th>INDUS</th>\n",
              "      <th>CHAS</th>\n",
              "      <th>NOX</th>\n",
              "      <th>RM</th>\n",
              "      <th>AGE</th>\n",
              "      <th>DIS</th>\n",
              "      <th>RAD</th>\n",
              "      <th>TAX</th>\n",
              "      <th>PTRATIO</th>\n",
              "      <th>B</th>\n",
              "      <th>LSTAT</th>\n",
              "    </tr>\n",
              "  </thead>\n",
              "  <tbody>\n",
              "    <tr>\n",
              "      <th>80</th>\n",
              "      <td>0.04113</td>\n",
              "      <td>25.0</td>\n",
              "      <td>4.86</td>\n",
              "      <td>0.0</td>\n",
              "      <td>0.426</td>\n",
              "      <td>6.727</td>\n",
              "      <td>33.5</td>\n",
              "      <td>5.4007</td>\n",
              "      <td>4.0</td>\n",
              "      <td>281.0</td>\n",
              "      <td>19.0</td>\n",
              "      <td>396.90</td>\n",
              "      <td>5.29</td>\n",
              "    </tr>\n",
              "    <tr>\n",
              "      <th>339</th>\n",
              "      <td>0.05497</td>\n",
              "      <td>0.0</td>\n",
              "      <td>5.19</td>\n",
              "      <td>0.0</td>\n",
              "      <td>0.515</td>\n",
              "      <td>5.985</td>\n",
              "      <td>45.4</td>\n",
              "      <td>4.8122</td>\n",
              "      <td>5.0</td>\n",
              "      <td>224.0</td>\n",
              "      <td>20.2</td>\n",
              "      <td>396.90</td>\n",
              "      <td>9.74</td>\n",
              "    </tr>\n",
              "    <tr>\n",
              "      <th>178</th>\n",
              "      <td>0.06642</td>\n",
              "      <td>0.0</td>\n",
              "      <td>4.05</td>\n",
              "      <td>0.0</td>\n",
              "      <td>0.510</td>\n",
              "      <td>6.860</td>\n",
              "      <td>74.4</td>\n",
              "      <td>2.9153</td>\n",
              "      <td>5.0</td>\n",
              "      <td>296.0</td>\n",
              "      <td>16.6</td>\n",
              "      <td>391.27</td>\n",
              "      <td>6.92</td>\n",
              "    </tr>\n",
              "    <tr>\n",
              "      <th>482</th>\n",
              "      <td>5.73116</td>\n",
              "      <td>0.0</td>\n",
              "      <td>18.10</td>\n",
              "      <td>0.0</td>\n",
              "      <td>0.532</td>\n",
              "      <td>7.061</td>\n",
              "      <td>77.0</td>\n",
              "      <td>3.4106</td>\n",
              "      <td>24.0</td>\n",
              "      <td>666.0</td>\n",
              "      <td>20.2</td>\n",
              "      <td>395.28</td>\n",
              "      <td>7.01</td>\n",
              "    </tr>\n",
              "    <tr>\n",
              "      <th>364</th>\n",
              "      <td>3.47428</td>\n",
              "      <td>0.0</td>\n",
              "      <td>18.10</td>\n",
              "      <td>1.0</td>\n",
              "      <td>0.718</td>\n",
              "      <td>8.780</td>\n",
              "      <td>82.9</td>\n",
              "      <td>1.9047</td>\n",
              "      <td>24.0</td>\n",
              "      <td>666.0</td>\n",
              "      <td>20.2</td>\n",
              "      <td>354.55</td>\n",
              "      <td>5.29</td>\n",
              "    </tr>\n",
              "  </tbody>\n",
              "</table>\n",
              "</div>\n",
              "      <button class=\"colab-df-convert\" onclick=\"convertToInteractive('df-3aed01ac-354b-42ed-af5e-f2a8e9ba97a5')\"\n",
              "              title=\"Convert this dataframe to an interactive table.\"\n",
              "              style=\"display:none;\">\n",
              "        \n",
              "  <svg xmlns=\"http://www.w3.org/2000/svg\" height=\"24px\"viewBox=\"0 0 24 24\"\n",
              "       width=\"24px\">\n",
              "    <path d=\"M0 0h24v24H0V0z\" fill=\"none\"/>\n",
              "    <path d=\"M18.56 5.44l.94 2.06.94-2.06 2.06-.94-2.06-.94-.94-2.06-.94 2.06-2.06.94zm-11 1L8.5 8.5l.94-2.06 2.06-.94-2.06-.94L8.5 2.5l-.94 2.06-2.06.94zm10 10l.94 2.06.94-2.06 2.06-.94-2.06-.94-.94-2.06-.94 2.06-2.06.94z\"/><path d=\"M17.41 7.96l-1.37-1.37c-.4-.4-.92-.59-1.43-.59-.52 0-1.04.2-1.43.59L10.3 9.45l-7.72 7.72c-.78.78-.78 2.05 0 2.83L4 21.41c.39.39.9.59 1.41.59.51 0 1.02-.2 1.41-.59l7.78-7.78 2.81-2.81c.8-.78.8-2.07 0-2.86zM5.41 20L4 18.59l7.72-7.72 1.47 1.35L5.41 20z\"/>\n",
              "  </svg>\n",
              "      </button>\n",
              "      \n",
              "  <style>\n",
              "    .colab-df-container {\n",
              "      display:flex;\n",
              "      flex-wrap:wrap;\n",
              "      gap: 12px;\n",
              "    }\n",
              "\n",
              "    .colab-df-convert {\n",
              "      background-color: #E8F0FE;\n",
              "      border: none;\n",
              "      border-radius: 50%;\n",
              "      cursor: pointer;\n",
              "      display: none;\n",
              "      fill: #1967D2;\n",
              "      height: 32px;\n",
              "      padding: 0 0 0 0;\n",
              "      width: 32px;\n",
              "    }\n",
              "\n",
              "    .colab-df-convert:hover {\n",
              "      background-color: #E2EBFA;\n",
              "      box-shadow: 0px 1px 2px rgba(60, 64, 67, 0.3), 0px 1px 3px 1px rgba(60, 64, 67, 0.15);\n",
              "      fill: #174EA6;\n",
              "    }\n",
              "\n",
              "    [theme=dark] .colab-df-convert {\n",
              "      background-color: #3B4455;\n",
              "      fill: #D2E3FC;\n",
              "    }\n",
              "\n",
              "    [theme=dark] .colab-df-convert:hover {\n",
              "      background-color: #434B5C;\n",
              "      box-shadow: 0px 1px 3px 1px rgba(0, 0, 0, 0.15);\n",
              "      filter: drop-shadow(0px 1px 2px rgba(0, 0, 0, 0.3));\n",
              "      fill: #FFFFFF;\n",
              "    }\n",
              "  </style>\n",
              "\n",
              "      <script>\n",
              "        const buttonEl =\n",
              "          document.querySelector('#df-3aed01ac-354b-42ed-af5e-f2a8e9ba97a5 button.colab-df-convert');\n",
              "        buttonEl.style.display =\n",
              "          google.colab.kernel.accessAllowed ? 'block' : 'none';\n",
              "\n",
              "        async function convertToInteractive(key) {\n",
              "          const element = document.querySelector('#df-3aed01ac-354b-42ed-af5e-f2a8e9ba97a5');\n",
              "          const dataTable =\n",
              "            await google.colab.kernel.invokeFunction('convertToInteractive',\n",
              "                                                     [key], {});\n",
              "          if (!dataTable) return;\n",
              "\n",
              "          const docLinkHtml = 'Like what you see? Visit the ' +\n",
              "            '<a target=\"_blank\" href=https://colab.research.google.com/notebooks/data_table.ipynb>data table notebook</a>'\n",
              "            + ' to learn more about interactive tables.';\n",
              "          element.innerHTML = '';\n",
              "          dataTable['output_type'] = 'display_data';\n",
              "          await google.colab.output.renderOutput(dataTable, element);\n",
              "          const docLink = document.createElement('div');\n",
              "          docLink.innerHTML = docLinkHtml;\n",
              "          element.appendChild(docLink);\n",
              "        }\n",
              "      </script>\n",
              "    </div>\n",
              "  </div>\n",
              "  "
            ]
          },
          "metadata": {},
          "execution_count": 54
        }
      ]
    },
    {
      "cell_type": "code",
      "source": [
        "X_train.shape,X_train_normal.shape"
      ],
      "metadata": {
        "colab": {
          "base_uri": "https://localhost:8080/",
          "height": 0
        },
        "id": "1dvpf5PGyapP",
        "outputId": "675e7453-d2e9-469d-942c-3afbb52522aa"
      },
      "execution_count": 55,
      "outputs": [
        {
          "output_type": "execute_result",
          "data": {
            "text/plain": [
              "((404, 13), (404, 13))"
            ]
          },
          "metadata": {},
          "execution_count": 55
        }
      ]
    },
    {
      "cell_type": "code",
      "source": [
        "X_train_normal.shape"
      ],
      "metadata": {
        "colab": {
          "base_uri": "https://localhost:8080/",
          "height": 0
        },
        "id": "V5q8n-gcyqV4",
        "outputId": "692a50a0-8e20-41b1-bebd-9f5e37161448"
      },
      "execution_count": 56,
      "outputs": [
        {
          "output_type": "execute_result",
          "data": {
            "text/plain": [
              "(404, 13)"
            ]
          },
          "metadata": {},
          "execution_count": 56
        }
      ]
    },
    {
      "cell_type": "code",
      "source": [
        "max(X_train_normal[:,0])"
      ],
      "metadata": {
        "colab": {
          "base_uri": "https://localhost:8080/",
          "height": 0
        },
        "id": "8tvbgD8drCH0",
        "outputId": "5e291a55-9853-40ae-deed-3d1a9e44faa1"
      },
      "execution_count": 57,
      "outputs": [
        {
          "output_type": "execute_result",
          "data": {
            "text/plain": [
              "1.0"
            ]
          },
          "metadata": {},
          "execution_count": 57
        }
      ]
    },
    {
      "cell_type": "code",
      "source": [
        "tf.random.set_seed(1)\n",
        "\n",
        "model_6 = tf.keras.Sequential([\n",
        "    tf.keras.layers.Dense(5),\n",
        "    tf.keras.layers.Dense(1)\n",
        "])\n",
        "\n",
        "model_6.compile(loss=tf.keras.losses.mae,\n",
        "              optimizer=tf.keras.optimizers.SGD(learning_rate=1e-3),\n",
        "              metrics=['mae'])\n",
        "\n",
        "history_model_6 = model_6.fit(X_train_normal,y_train,epochs=100,verbose=0)\n",
        "\n",
        "model_6_preds = model_6.predict(X_test_normal)\n",
        "\n",
        "print(maecalc(y_test,model_6_preds.squeeze()))\n",
        "print(msecalc(y_test,model_6_preds.squeeze()))"
      ],
      "metadata": {
        "id": "x4NdQgEtxyLC",
        "colab": {
          "base_uri": "https://localhost:8080/",
          "height": 0
        },
        "outputId": "fb6ce08a-bdf8-4d4d-acbc-9b01018a28c3"
      },
      "execution_count": 58,
      "outputs": [
        {
          "output_type": "stream",
          "name": "stdout",
          "text": [
            "4/4 [==============================] - 0s 3ms/step\n",
            "tf.Tensor(7.3774037, shape=(), dtype=float32)\n",
            "tf.Tensor(92.56793, shape=(), dtype=float32)\n"
          ]
        }
      ]
    },
    {
      "cell_type": "code",
      "source": [
        "fig,ax = plt.subplots(1,2,figsize=(10,5))\n",
        "ax[0].plot(history_model_2.history['loss'])\n",
        "ax[0].set_title('Without normalization')\n",
        "ax[0].set_xlabel('Epochs')\n",
        "ax[0].set_ylabel('Loss')\n",
        "ax[1].plot(history_model_6.history['loss'])\n",
        "ax[1].set_title('With normalization')\n",
        "ax[1].set_xlabel('Epochs')\n",
        "ax[1].set_ylabel('Loss');"
      ],
      "metadata": {
        "id": "YVOEPmU7tmmA",
        "colab": {
          "base_uri": "https://localhost:8080/",
          "height": 350
        },
        "outputId": "383b0d0b-6475-480e-f43f-eb00bf35ccb0"
      },
      "execution_count": 101,
      "outputs": [
        {
          "output_type": "display_data",
          "data": {
            "text/plain": [
              "<Figure size 720x360 with 2 Axes>"
            ],
            "image/png": "[encoded data removed]"
          },
          "metadata": {
            "needs_background": "light"
          }
        }
      ]
    },
    {
      "cell_type": "code",
      "source": [
        "maecalc(y_test,model_2_preds.squeeze()).numpy(),maecalc(y_test,model_6_preds.squeeze()).numpy()"
      ],
      "metadata": {
        "id": "UT8pq1ZLt7ho",
        "colab": {
          "base_uri": "https://localhost:8080/",
          "height": 0
        },
        "outputId": "a5798ef2-495b-4baf-ad2c-9aaaf155baf6"
      },
      "execution_count": 105,
      "outputs": [
        {
          "output_type": "execute_result",
          "data": {
            "text/plain": [
              "(8.819822, 7.3774037)"
            ]
          },
          "metadata": {},
          "execution_count": 105
        }
      ]
    },
    {
      "cell_type": "code",
      "source": [
        "msecalc(y_test,model_2_preds.squeeze()).numpy(),msecalc(y_test,model_6_preds.squeeze()).numpy()"
      ],
      "metadata": {
        "id": "tsVDutGKtuM8",
        "colab": {
          "base_uri": "https://localhost:8080/",
          "height": 0
        },
        "outputId": "a372c0ad-ac4d-49ae-bcf6-d5693b89d867"
      },
      "execution_count": 106,
      "outputs": [
        {
          "output_type": "execute_result",
          "data": {
            "text/plain": [
              "(110.18404, 92.56793)"
            ]
          },
          "metadata": {},
          "execution_count": 106
        }
      ]
    }
  ]
}